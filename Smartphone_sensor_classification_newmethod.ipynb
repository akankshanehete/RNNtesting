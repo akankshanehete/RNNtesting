{
  "nbformat": 4,
  "nbformat_minor": 0,
  "metadata": {
    "colab": {
      "name": "Smartphone_sensor_classification_newmethod",
      "provenance": [],
      "collapsed_sections": [],
      "machine_shape": "hm",
      "include_colab_link": true
    },
    "kernelspec": {
      "name": "python3",
      "display_name": "Python 3"
    },
    "accelerator": "TPU",
    "gpuClass": "standard"
  },
  "cells": [
    {
      "cell_type": "markdown",
      "metadata": {
        "id": "view-in-github",
        "colab_type": "text"
      },
      "source": [
        "<a href=\"https://colab.research.google.com/github/akankshanehete/RNNtesting/blob/main/Smartphone_sensor_classification_newmethod.ipynb\" target=\"_parent\"><img src=\"https://colab.research.google.com/assets/colab-badge.svg\" alt=\"Open In Colab\"/></a>"
      ]
    },
    {
      "cell_type": "code",
      "metadata": {
        "id": "W71I_JqTu29i"
      },
      "source": [
        "import numpy as np\n",
        "import tensorflow as tf\n",
        "from tensorflow import keras\n",
        "from keras import preprocessing\n",
        "import pandas as pd\n",
        "import seaborn as sns\n",
        "from pylab import rcParams\n",
        "import matplotlib.pyplot as plt\n",
        "from matplotlib import rc\n",
        "from pandas.plotting import register_matplotlib_converters\n",
        "from tensorflow.keras.models import Sequential\n",
        "from tensorflow.keras.layers import Dense, Dropout, LSTM, BatchNormalization,Masking\n",
        "from scipy import stats\n",
        "\n",
        "%matplotlib inline\n",
        "%config InlineBackend.figure_format='retina'\n",
        "\n",
        "register_matplotlib_converters()\n",
        "sns.set(style='whitegrid', palette='muted', font_scale=1.5)\n",
        "\n",
        "rcParams['figure.figsize'] = 22, 10\n",
        "\n",
        "RANDOM_SEED = 42\n",
        "\n",
        "np.random.seed(RANDOM_SEED)\n",
        "tf.random.set_seed(RANDOM_SEED)"
      ],
      "execution_count": 74,
      "outputs": []
    },
    {
      "cell_type": "code",
      "metadata": {
        "id": "eJU-ydXmu4kZ",
        "outputId": "dcf7ec99-b3c6-4927-c6e8-5eac2a1b4c2f",
        "colab": {
          "base_uri": "https://localhost:8080/"
        }
      },
      "source": [
        "!gdown --id 152sWECukjvLerrVG2NUO8gtMFg83RKCF --output WISDM_ar_latest.tar.gz\n",
        "!tar -xvf WISDM_ar_latest.tar.gz"
      ],
      "execution_count": 75,
      "outputs": [
        {
          "output_type": "stream",
          "name": "stdout",
          "text": [
            "/usr/local/lib/python3.7/dist-packages/gdown/cli.py:131: FutureWarning: Option `--id` was deprecated in version 4.3.1 and will be removed in 5.0. You don't need to pass it anymore to use a file ID.\n",
            "  category=FutureWarning,\n",
            "Downloading...\n",
            "From: https://drive.google.com/uc?id=152sWECukjvLerrVG2NUO8gtMFg83RKCF\n",
            "To: /content/WISDM_ar_latest.tar.gz\n",
            "100% 11.4M/11.4M [00:00<00:00, 290MB/s]\n",
            "WISDM_ar_v1.1/\n",
            "WISDM_ar_v1.1/readme.txt\n",
            "WISDM_ar_v1.1/WISDM_ar_v1.1_raw.txt\n",
            "WISDM_ar_v1.1/WISDM_ar_v1.1_raw_about.txt\n",
            "WISDM_ar_v1.1/WISDM_ar_v1.1_transformed.arff\n",
            "WISDM_ar_v1.1/WISDM_ar_v1.1_trans_about.txt\n"
          ]
        }
      ]
    },
    {
      "cell_type": "code",
      "metadata": {
        "id": "jHBAslVU_I-I",
        "colab": {
          "base_uri": "https://localhost:8080/"
        },
        "outputId": "fd70b599-e8f0-43dd-d317-d2913b6c827e"
      },
      "source": [
        "column_names = ['user_id', 'activity', 'timestamp', 'x_axis', 'y_axis', 'z_axis']\n",
        "\n",
        "df = pd.read_csv('WISDM_ar_v1.1/WISDM_ar_v1.1_raw.txt', header=None, names=column_names)\n",
        "df.z_axis.replace(regex=True, inplace=True, to_replace=r';', value=r'')\n",
        "df['z_axis'] = df.z_axis.astype(np.float64)\n",
        "df.dropna(axis=0, how='any', inplace=True)\n",
        "print(df.shape)\n",
        "df = df[df['timestamp'] != 0]\n",
        "print(df.shape)\n",
        "df = df.drop(columns=['timestamp'])"
      ],
      "execution_count": 76,
      "outputs": [
        {
          "output_type": "stream",
          "name": "stdout",
          "text": [
            "(1098203, 6)\n",
            "(1085360, 6)\n"
          ]
        }
      ]
    },
    {
      "cell_type": "code",
      "metadata": {
        "id": "_SuX8mdb_inH",
        "outputId": "918e62fe-cc67-47cc-f3bd-a97afd51d7b9",
        "colab": {
          "base_uri": "https://localhost:8080/",
          "height": 206
        }
      },
      "source": [
        "df.head()"
      ],
      "execution_count": 77,
      "outputs": [
        {
          "output_type": "execute_result",
          "data": {
            "text/plain": [
              "   user_id activity    x_axis     y_axis    z_axis\n",
              "0       33  Jogging -0.694638  12.680544  0.503953\n",
              "1       33  Jogging  5.012288  11.264028  0.953424\n",
              "2       33  Jogging  4.903325  10.882658 -0.081722\n",
              "3       33  Jogging -0.612916  18.496431  3.023717\n",
              "4       33  Jogging -1.184970  12.108489  7.205164"
            ],
            "text/html": [
              "\n",
              "  <div id=\"df-0ff9c0d9-c686-4a59-bedc-92130a7b54ff\">\n",
              "    <div class=\"colab-df-container\">\n",
              "      <div>\n",
              "<style scoped>\n",
              "    .dataframe tbody tr th:only-of-type {\n",
              "        vertical-align: middle;\n",
              "    }\n",
              "\n",
              "    .dataframe tbody tr th {\n",
              "        vertical-align: top;\n",
              "    }\n",
              "\n",
              "    .dataframe thead th {\n",
              "        text-align: right;\n",
              "    }\n",
              "</style>\n",
              "<table border=\"1\" class=\"dataframe\">\n",
              "  <thead>\n",
              "    <tr style=\"text-align: right;\">\n",
              "      <th></th>\n",
              "      <th>user_id</th>\n",
              "      <th>activity</th>\n",
              "      <th>x_axis</th>\n",
              "      <th>y_axis</th>\n",
              "      <th>z_axis</th>\n",
              "    </tr>\n",
              "  </thead>\n",
              "  <tbody>\n",
              "    <tr>\n",
              "      <th>0</th>\n",
              "      <td>33</td>\n",
              "      <td>Jogging</td>\n",
              "      <td>-0.694638</td>\n",
              "      <td>12.680544</td>\n",
              "      <td>0.503953</td>\n",
              "    </tr>\n",
              "    <tr>\n",
              "      <th>1</th>\n",
              "      <td>33</td>\n",
              "      <td>Jogging</td>\n",
              "      <td>5.012288</td>\n",
              "      <td>11.264028</td>\n",
              "      <td>0.953424</td>\n",
              "    </tr>\n",
              "    <tr>\n",
              "      <th>2</th>\n",
              "      <td>33</td>\n",
              "      <td>Jogging</td>\n",
              "      <td>4.903325</td>\n",
              "      <td>10.882658</td>\n",
              "      <td>-0.081722</td>\n",
              "    </tr>\n",
              "    <tr>\n",
              "      <th>3</th>\n",
              "      <td>33</td>\n",
              "      <td>Jogging</td>\n",
              "      <td>-0.612916</td>\n",
              "      <td>18.496431</td>\n",
              "      <td>3.023717</td>\n",
              "    </tr>\n",
              "    <tr>\n",
              "      <th>4</th>\n",
              "      <td>33</td>\n",
              "      <td>Jogging</td>\n",
              "      <td>-1.184970</td>\n",
              "      <td>12.108489</td>\n",
              "      <td>7.205164</td>\n",
              "    </tr>\n",
              "  </tbody>\n",
              "</table>\n",
              "</div>\n",
              "      <button class=\"colab-df-convert\" onclick=\"convertToInteractive('df-0ff9c0d9-c686-4a59-bedc-92130a7b54ff')\"\n",
              "              title=\"Convert this dataframe to an interactive table.\"\n",
              "              style=\"display:none;\">\n",
              "        \n",
              "  <svg xmlns=\"http://www.w3.org/2000/svg\" height=\"24px\"viewBox=\"0 0 24 24\"\n",
              "       width=\"24px\">\n",
              "    <path d=\"M0 0h24v24H0V0z\" fill=\"none\"/>\n",
              "    <path d=\"M18.56 5.44l.94 2.06.94-2.06 2.06-.94-2.06-.94-.94-2.06-.94 2.06-2.06.94zm-11 1L8.5 8.5l.94-2.06 2.06-.94-2.06-.94L8.5 2.5l-.94 2.06-2.06.94zm10 10l.94 2.06.94-2.06 2.06-.94-2.06-.94-.94-2.06-.94 2.06-2.06.94z\"/><path d=\"M17.41 7.96l-1.37-1.37c-.4-.4-.92-.59-1.43-.59-.52 0-1.04.2-1.43.59L10.3 9.45l-7.72 7.72c-.78.78-.78 2.05 0 2.83L4 21.41c.39.39.9.59 1.41.59.51 0 1.02-.2 1.41-.59l7.78-7.78 2.81-2.81c.8-.78.8-2.07 0-2.86zM5.41 20L4 18.59l7.72-7.72 1.47 1.35L5.41 20z\"/>\n",
              "  </svg>\n",
              "      </button>\n",
              "      \n",
              "  <style>\n",
              "    .colab-df-container {\n",
              "      display:flex;\n",
              "      flex-wrap:wrap;\n",
              "      gap: 12px;\n",
              "    }\n",
              "\n",
              "    .colab-df-convert {\n",
              "      background-color: #E8F0FE;\n",
              "      border: none;\n",
              "      border-radius: 50%;\n",
              "      cursor: pointer;\n",
              "      display: none;\n",
              "      fill: #1967D2;\n",
              "      height: 32px;\n",
              "      padding: 0 0 0 0;\n",
              "      width: 32px;\n",
              "    }\n",
              "\n",
              "    .colab-df-convert:hover {\n",
              "      background-color: #E2EBFA;\n",
              "      box-shadow: 0px 1px 2px rgba(60, 64, 67, 0.3), 0px 1px 3px 1px rgba(60, 64, 67, 0.15);\n",
              "      fill: #174EA6;\n",
              "    }\n",
              "\n",
              "    [theme=dark] .colab-df-convert {\n",
              "      background-color: #3B4455;\n",
              "      fill: #D2E3FC;\n",
              "    }\n",
              "\n",
              "    [theme=dark] .colab-df-convert:hover {\n",
              "      background-color: #434B5C;\n",
              "      box-shadow: 0px 1px 3px 1px rgba(0, 0, 0, 0.15);\n",
              "      filter: drop-shadow(0px 1px 2px rgba(0, 0, 0, 0.3));\n",
              "      fill: #FFFFFF;\n",
              "    }\n",
              "  </style>\n",
              "\n",
              "      <script>\n",
              "        const buttonEl =\n",
              "          document.querySelector('#df-0ff9c0d9-c686-4a59-bedc-92130a7b54ff button.colab-df-convert');\n",
              "        buttonEl.style.display =\n",
              "          google.colab.kernel.accessAllowed ? 'block' : 'none';\n",
              "\n",
              "        async function convertToInteractive(key) {\n",
              "          const element = document.querySelector('#df-0ff9c0d9-c686-4a59-bedc-92130a7b54ff');\n",
              "          const dataTable =\n",
              "            await google.colab.kernel.invokeFunction('convertToInteractive',\n",
              "                                                     [key], {});\n",
              "          if (!dataTable) return;\n",
              "\n",
              "          const docLinkHtml = 'Like what you see? Visit the ' +\n",
              "            '<a target=\"_blank\" href=https://colab.research.google.com/notebooks/data_table.ipynb>data table notebook</a>'\n",
              "            + ' to learn more about interactive tables.';\n",
              "          element.innerHTML = '';\n",
              "          dataTable['output_type'] = 'display_data';\n",
              "          await google.colab.output.renderOutput(dataTable, element);\n",
              "          const docLink = document.createElement('div');\n",
              "          docLink.innerHTML = docLinkHtml;\n",
              "          element.appendChild(docLink);\n",
              "        }\n",
              "      </script>\n",
              "    </div>\n",
              "  </div>\n",
              "  "
            ]
          },
          "metadata": {},
          "execution_count": 77
        }
      ]
    },
    {
      "cell_type": "code",
      "metadata": {
        "id": "Mqp65KYQTe_S",
        "colab": {
          "base_uri": "https://localhost:8080/"
        },
        "outputId": "d4403be3-241f-4809-a0ca-8955de6ef4c1"
      },
      "source": [
        "users = list(df.groupby(['user_id']))\n",
        "smartphonedfs = []\n",
        "for i in range(len(users)):\n",
        "  users[i] = users[i][1]\n",
        "\n",
        "for i in range (len(users)):\n",
        "  activ = list(users[i].groupby(['activity']))\n",
        "  for i in range(len(activ)):\n",
        "    smartphonedfs.append(activ[i][1])\n",
        "\n",
        "print(smartphonedfs[0])\n",
        "print(smartphonedfs[1])\n"
      ],
      "execution_count": 78,
      "outputs": [
        {
          "output_type": "stream",
          "name": "stdout",
          "text": [
            "        user_id    activity  x_axis  y_axis  z_axis\n",
            "966741        1  Downstairs   -0.15    9.15   -0.34\n",
            "966742        1  Downstairs    0.11    9.19    2.76\n",
            "966743        1  Downstairs   -4.06    7.40    4.02\n",
            "966744        1  Downstairs   -2.87    7.93    3.21\n",
            "966745        1  Downstairs   -0.19   10.04    4.82\n",
            "...         ...         ...     ...     ...     ...\n",
            "971933        1  Downstairs   -0.61    9.72    2.07\n",
            "971934        1  Downstairs    5.71   11.35    0.69\n",
            "971935        1  Downstairs    8.62    5.41   -1.18\n",
            "971936        1  Downstairs    4.25    7.59    0.08\n",
            "971937        1  Downstairs   -0.34   11.30    0.72\n",
            "\n",
            "[2941 rows x 5 columns]\n",
            "        user_id activity  x_axis  y_axis  z_axis\n",
            "948761        1  Jogging    4.48   14.18   -2.11\n",
            "948762        1  Jogging    3.95   12.26   -2.68\n",
            "948763        1  Jogging    6.05    9.72   -1.95\n",
            "948764        1  Jogging    5.24    7.21   -5.56\n",
            "948765        1  Jogging    7.27    5.79   -6.51\n",
            "...         ...      ...     ...     ...     ...\n",
            "965872        1  Jogging  -13.57   -6.21    1.95\n",
            "965873        1  Jogging  -12.07   -3.60    2.03\n",
            "965874        1  Jogging   -9.28   -4.75   -0.65\n",
            "965875        1  Jogging   -5.86   -5.20    4.90\n",
            "965876        1  Jogging   -8.24   -6.02   -0.65\n",
            "\n",
            "[11056 rows x 5 columns]\n"
          ]
        }
      ]
    },
    {
      "cell_type": "code",
      "source": [
        "columns = ['x_axis', 'y_axis', 'z_axis']\n",
        "x_columns = ['x_axis']\n",
        "y_columns = ['y_axis']\n",
        "z_columns = ['z_axis']\n"
      ],
      "metadata": {
        "id": "qEQUqguwsWb5"
      },
      "execution_count": 79,
      "outputs": []
    },
    {
      "cell_type": "code",
      "source": [
        "a =[]\n",
        "actiontargets = []\n",
        "subjectids = []\n",
        "smartphonedflens = []\n",
        "\n",
        "actions = ['Downstairs','Jogging','Upstairs','Walking', 'Sitting','Standing']\n",
        "num_classes = len(actions)\n",
        "window_size = 15\n",
        "testing_percent = 0.5\n",
        "\n",
        "subjectids = []\n",
        "for sensordf in smartphonedfs:\n",
        "  actiontargets.append(actions.index(list(sensordf['activity'])[0]))\n",
        "  subjectids.append(list(sensordf['user_id'])[0])\n",
        "  smartphonedflens.append(len(sensordf))\n",
        "\n",
        "print(len(smartphonedfs))\n",
        "print(actiontargets)\n",
        "print(subjectids)\n",
        "print(smartphonedflens)\n",
        "pd.Series(smartphonedflens).describe()"
      ],
      "metadata": {
        "colab": {
          "base_uri": "https://localhost:8080/"
        },
        "id": "D1jsMoIrtckS",
        "outputId": "4e163c71-7efa-4a71-8a4b-683e9df87f34"
      },
      "execution_count": 80,
      "outputs": [
        {
          "output_type": "stream",
          "name": "stdout",
          "text": [
            "179\n",
            "[0, 1, 2, 3, 1, 3, 0, 1, 4, 5, 2, 3, 0, 1, 4, 2, 3, 0, 1, 4, 5, 2, 3, 0, 1, 4, 5, 2, 3, 0, 1, 4, 5, 2, 3, 0, 1, 4, 5, 2, 3, 3, 0, 1, 5, 2, 3, 0, 1, 2, 3, 0, 1, 4, 5, 2, 3, 0, 1, 4, 5, 2, 3, 0, 1, 2, 3, 0, 1, 2, 3, 0, 4, 5, 2, 3, 0, 1, 2, 3, 0, 1, 4, 5, 2, 3, 0, 1, 4, 5, 2, 3, 0, 1, 4, 5, 2, 3, 0, 1, 4, 5, 2, 3, 0, 1, 2, 3, 0, 1, 2, 3, 0, 1, 4, 5, 2, 3, 1, 3, 0, 1, 2, 3, 0, 1, 4, 5, 2, 3, 0, 5, 2, 3, 0, 1, 4, 5, 2, 3, 0, 4, 5, 2, 3, 0, 1, 4, 5, 2, 3, 0, 1, 4, 5, 2, 3, 0, 1, 4, 5, 2, 3, 0, 1, 4, 5, 2, 3, 1, 4, 5, 3, 0, 1, 4, 5, 2, 3]\n",
            "[1, 1, 1, 1, 2, 2, 3, 3, 3, 3, 3, 3, 4, 4, 4, 4, 4, 5, 5, 5, 5, 5, 5, 6, 6, 6, 6, 6, 6, 7, 7, 7, 7, 7, 7, 8, 8, 8, 8, 8, 8, 9, 10, 10, 10, 10, 10, 11, 11, 11, 11, 12, 12, 12, 12, 12, 12, 13, 13, 13, 13, 13, 13, 14, 14, 14, 14, 15, 15, 15, 15, 16, 16, 16, 16, 16, 17, 17, 17, 17, 18, 18, 18, 18, 18, 18, 19, 19, 19, 19, 19, 19, 20, 20, 20, 20, 20, 20, 21, 21, 21, 21, 21, 21, 22, 22, 22, 22, 23, 23, 23, 23, 24, 24, 24, 24, 24, 24, 25, 25, 26, 26, 26, 26, 27, 27, 27, 27, 27, 27, 28, 28, 28, 28, 29, 29, 29, 29, 29, 29, 30, 30, 30, 30, 30, 31, 31, 31, 31, 31, 31, 32, 32, 32, 32, 32, 32, 33, 33, 33, 33, 33, 33, 34, 34, 34, 34, 34, 34, 35, 35, 35, 35, 36, 36, 36, 36, 36, 36]\n",
            "[2941, 11056, 3120, 12861, 11786, 11739, 3326, 11018, 1609, 2824, 3411, 12970, 1761, 895, 1257, 1377, 6079, 3281, 6405, 1664, 1515, 3387, 12257, 1431, 10961, 1679, 709, 1661, 12262, 2257, 9183, 2529, 2364, 3601, 11033, 3345, 10313, 2699, 3269, 4453, 17108, 12923, 3792, 12084, 1659, 4294, 13046, 2674, 12454, 4392, 12138, 2870, 12360, 2289, 1670, 2654, 10798, 4241, 11301, 1179, 1659, 4637, 13047, 2875, 13279, 8179, 13859, 1762, 10798, 2055, 11467, 1575, 2984, 1979, 1411, 12521, 3767, 2887, 5689, 9677, 2410, 10911, 1467, 1954, 2409, 12554, 2613, 16201, 2534, 2132, 4280, 17622, 4673, 10728, 15644, 5389, 4833, 13027, 4036, 9593, 1609, 2859, 4841, 12498, 3625, 6224, 5430, 7029, 1939, 12309, 4836, 6589, 2929, 12278, 690, 544, 3039, 6256, 6489, 6979, 3837, 11913, 3618, 13210, 3442, 10856, 2099, 1630, 3064, 12366, 2997, 1300, 2892, 14169, 4265, 11458, 2319, 1603, 4769, 12354, 3872, 1559, 3099, 4226, 12579, 3892, 14075, 2148, 2612, 4679, 16876, 2208, 10249, 3059, 1669, 3797, 12375, 4535, 2946, 3248, 1612, 2214, 14898, 2856, 12869, 1575, 1349, 3921, 13377, 12564, 1599, 1069, 7162, 4167, 11887, 2500, 1925, 5429, 6200]\n"
          ]
        },
        {
          "output_type": "execute_result",
          "data": {
            "text/plain": [
              "count      179.000000\n",
              "mean      6063.463687\n",
              "std       4634.205648\n",
              "min        544.000000\n",
              "25%       2341.500000\n",
              "50%       3892.000000\n",
              "75%      10989.500000\n",
              "max      17622.000000\n",
              "dtype: float64"
            ]
          },
          "metadata": {},
          "execution_count": 80
        }
      ]
    },
    {
      "cell_type": "code",
      "source": [
        "def plot_activity(smartphonedf):\n",
        "  plt.plot(smartphonedf[columns])\n",
        "  plt.title('Subject '+ str(list(smartphonedf['user_id'])[0]) + \" \" + str(list(smartphonedf['activity'])[0]))\n",
        "  plt.show()\n",
        "\n"
      ],
      "metadata": {
        "id": "Yf3-1abaFG4O"
      },
      "execution_count": 81,
      "outputs": []
    },
    {
      "cell_type": "code",
      "source": [
        "for i in range (len (smartphonedfs)):\n",
        "  smartphonedfs[i] = smartphonedfs[i].reset_index()\n",
        "  smartphonedfs[i] = smartphonedfs[i].drop(columns=['index'])\n",
        "\n",
        "print(smartphonedfs[0])"
      ],
      "metadata": {
        "colab": {
          "base_uri": "https://localhost:8080/"
        },
        "id": "Rq0ktMWtVP8L",
        "outputId": "d6b3d74c-d3a0-4090-c152-a2672ae5a1f4"
      },
      "execution_count": 82,
      "outputs": [
        {
          "output_type": "stream",
          "name": "stdout",
          "text": [
            "      user_id    activity  x_axis  y_axis  z_axis\n",
            "0           1  Downstairs   -0.15    9.15   -0.34\n",
            "1           1  Downstairs    0.11    9.19    2.76\n",
            "2           1  Downstairs   -4.06    7.40    4.02\n",
            "3           1  Downstairs   -2.87    7.93    3.21\n",
            "4           1  Downstairs   -0.19   10.04    4.82\n",
            "...       ...         ...     ...     ...     ...\n",
            "2936        1  Downstairs   -0.61    9.72    2.07\n",
            "2937        1  Downstairs    5.71   11.35    0.69\n",
            "2938        1  Downstairs    8.62    5.41   -1.18\n",
            "2939        1  Downstairs    4.25    7.59    0.08\n",
            "2940        1  Downstairs   -0.34   11.30    0.72\n",
            "\n",
            "[2941 rows x 5 columns]\n"
          ]
        }
      ]
    },
    {
      "cell_type": "code",
      "source": [
        "# for smartphonedf in smartphonedfs:\n",
        "#   plot_activity(smartphonedf)\n",
        "  \n",
        "  "
      ],
      "metadata": {
        "id": "9O1b2PGmEDsg"
      },
      "execution_count": 83,
      "outputs": []
    },
    {
      "cell_type": "code",
      "source": [
        "a =[]\n",
        "actiontargets = []\n",
        "subjectids = []\n",
        "smartphonedflens = []\n",
        "\n",
        "actions = ['Downstairs','Jogging','Upstairs','Walking', 'Sitting','Standing']\n",
        "num_classes = len(actions)\n",
        "window_size = 50\n",
        "testing_percent = 0.5\n",
        "\n",
        "subjectids = []\n",
        "for sensordf in smartphonedfs:\n",
        "  actiontargets.append(actions.index(list(sensordf['activity'])[0]))\n",
        "  subjectids.append(list(sensordf['user_id'])[0])\n",
        "  smartphonedflens.append(len(sensordf))\n",
        "\n",
        "print(len(smartphonedfs))\n",
        "print(actiontargets)\n",
        "print(subjectids)\n",
        "print(smartphonedflens)\n",
        "pd.Series(smartphonedflens).describe()"
      ],
      "metadata": {
        "colab": {
          "base_uri": "https://localhost:8080/"
        },
        "id": "meTTXnqBblJL",
        "outputId": "f04fbc41-58c5-41b8-a817-d30fb5364c6f"
      },
      "execution_count": 84,
      "outputs": [
        {
          "output_type": "stream",
          "name": "stdout",
          "text": [
            "179\n",
            "[0, 1, 2, 3, 1, 3, 0, 1, 4, 5, 2, 3, 0, 1, 4, 2, 3, 0, 1, 4, 5, 2, 3, 0, 1, 4, 5, 2, 3, 0, 1, 4, 5, 2, 3, 0, 1, 4, 5, 2, 3, 3, 0, 1, 5, 2, 3, 0, 1, 2, 3, 0, 1, 4, 5, 2, 3, 0, 1, 4, 5, 2, 3, 0, 1, 2, 3, 0, 1, 2, 3, 0, 4, 5, 2, 3, 0, 1, 2, 3, 0, 1, 4, 5, 2, 3, 0, 1, 4, 5, 2, 3, 0, 1, 4, 5, 2, 3, 0, 1, 4, 5, 2, 3, 0, 1, 2, 3, 0, 1, 2, 3, 0, 1, 4, 5, 2, 3, 1, 3, 0, 1, 2, 3, 0, 1, 4, 5, 2, 3, 0, 5, 2, 3, 0, 1, 4, 5, 2, 3, 0, 4, 5, 2, 3, 0, 1, 4, 5, 2, 3, 0, 1, 4, 5, 2, 3, 0, 1, 4, 5, 2, 3, 0, 1, 4, 5, 2, 3, 1, 4, 5, 3, 0, 1, 4, 5, 2, 3]\n",
            "[1, 1, 1, 1, 2, 2, 3, 3, 3, 3, 3, 3, 4, 4, 4, 4, 4, 5, 5, 5, 5, 5, 5, 6, 6, 6, 6, 6, 6, 7, 7, 7, 7, 7, 7, 8, 8, 8, 8, 8, 8, 9, 10, 10, 10, 10, 10, 11, 11, 11, 11, 12, 12, 12, 12, 12, 12, 13, 13, 13, 13, 13, 13, 14, 14, 14, 14, 15, 15, 15, 15, 16, 16, 16, 16, 16, 17, 17, 17, 17, 18, 18, 18, 18, 18, 18, 19, 19, 19, 19, 19, 19, 20, 20, 20, 20, 20, 20, 21, 21, 21, 21, 21, 21, 22, 22, 22, 22, 23, 23, 23, 23, 24, 24, 24, 24, 24, 24, 25, 25, 26, 26, 26, 26, 27, 27, 27, 27, 27, 27, 28, 28, 28, 28, 29, 29, 29, 29, 29, 29, 30, 30, 30, 30, 30, 31, 31, 31, 31, 31, 31, 32, 32, 32, 32, 32, 32, 33, 33, 33, 33, 33, 33, 34, 34, 34, 34, 34, 34, 35, 35, 35, 35, 36, 36, 36, 36, 36, 36]\n",
            "[2941, 11056, 3120, 12861, 11786, 11739, 3326, 11018, 1609, 2824, 3411, 12970, 1761, 895, 1257, 1377, 6079, 3281, 6405, 1664, 1515, 3387, 12257, 1431, 10961, 1679, 709, 1661, 12262, 2257, 9183, 2529, 2364, 3601, 11033, 3345, 10313, 2699, 3269, 4453, 17108, 12923, 3792, 12084, 1659, 4294, 13046, 2674, 12454, 4392, 12138, 2870, 12360, 2289, 1670, 2654, 10798, 4241, 11301, 1179, 1659, 4637, 13047, 2875, 13279, 8179, 13859, 1762, 10798, 2055, 11467, 1575, 2984, 1979, 1411, 12521, 3767, 2887, 5689, 9677, 2410, 10911, 1467, 1954, 2409, 12554, 2613, 16201, 2534, 2132, 4280, 17622, 4673, 10728, 15644, 5389, 4833, 13027, 4036, 9593, 1609, 2859, 4841, 12498, 3625, 6224, 5430, 7029, 1939, 12309, 4836, 6589, 2929, 12278, 690, 544, 3039, 6256, 6489, 6979, 3837, 11913, 3618, 13210, 3442, 10856, 2099, 1630, 3064, 12366, 2997, 1300, 2892, 14169, 4265, 11458, 2319, 1603, 4769, 12354, 3872, 1559, 3099, 4226, 12579, 3892, 14075, 2148, 2612, 4679, 16876, 2208, 10249, 3059, 1669, 3797, 12375, 4535, 2946, 3248, 1612, 2214, 14898, 2856, 12869, 1575, 1349, 3921, 13377, 12564, 1599, 1069, 7162, 4167, 11887, 2500, 1925, 5429, 6200]\n"
          ]
        },
        {
          "output_type": "execute_result",
          "data": {
            "text/plain": [
              "count      179.000000\n",
              "mean      6063.463687\n",
              "std       4634.205648\n",
              "min        544.000000\n",
              "25%       2341.500000\n",
              "50%       3892.000000\n",
              "75%      10989.500000\n",
              "max      17622.000000\n",
              "dtype: float64"
            ]
          },
          "metadata": {},
          "execution_count": 84
        }
      ]
    },
    {
      "cell_type": "code",
      "source": [
        "# creating gaussian windowing dataframes\n",
        "\n",
        "gaussian_velo = ['x_axis_avg','x_axis_std', 'y_axis_avg','y_axis_std', 'z_axis_avg','z_axis_std']\n",
        "\n",
        "def extract_gaussian_windowing(sensordf, period): \n",
        "  windowdf = pd.DataFrame(columns=gaussian_velo)\n",
        "  for column in columns: \n",
        "    # using the mean and variance for the windowing approach\n",
        "    windowdf[column+'_avg'] = sensordf[column].groupby(np.arange(len(sensordf))//period).mean()\n",
        "    windowdf[column+'_std'] = sensordf[column].groupby(np.arange(len(sensordf))//period).var()\n",
        "  return windowdf.dropna() \n",
        "\n"
      ],
      "metadata": {
        "id": "yZt34-nalXqD"
      },
      "execution_count": 85,
      "outputs": []
    },
    {
      "cell_type": "code",
      "source": [
        "gaussiandf = extract_gaussian_windowing(smartphonedfs[0],100)\n",
        "gaussiandf.head(10)\n",
        "\n",
        "gaussiandfs = []\n",
        "gaussiandflens = []\n",
        "\n",
        "for sensordf in smartphonedfs: \n",
        "  gaussiandf = extract_gaussian_windowing(sensordf, window_size)\n",
        "  gaussiandfs.append(gaussiandf)\n",
        "  gaussiandflens.append(len(gaussiandf))\n",
        "\n",
        "pd.Series(gaussiandflens).describe()"
      ],
      "metadata": {
        "colab": {
          "base_uri": "https://localhost:8080/"
        },
        "id": "DYaLRWmBmguZ",
        "outputId": "d7e97a1a-55cc-413b-d5e5-6ce15d2aee2e"
      },
      "execution_count": 86,
      "outputs": [
        {
          "output_type": "execute_result",
          "data": {
            "text/plain": [
              "count    179.000000\n",
              "mean     121.748603\n",
              "std       92.689759\n",
              "min       11.000000\n",
              "25%       47.500000\n",
              "50%       78.000000\n",
              "75%      220.500000\n",
              "max      353.000000\n",
              "dtype: float64"
            ]
          },
          "metadata": {},
          "execution_count": 86
        }
      ]
    },
    {
      "cell_type": "code",
      "source": [
        "# creating sequences from the windowing dataframes to feed into the RNN\n",
        "sequences = list()\n",
        "\n",
        "\n",
        "for i in range(len(gaussiandfs)):\n",
        "  values = gaussiandfs[i][gaussian_velo].values\n",
        "  sequences.append(values)\n",
        "\n",
        "print(len(sequences))\n",
        "print(len(actiontargets))"
      ],
      "metadata": {
        "colab": {
          "base_uri": "https://localhost:8080/"
        },
        "id": "boVdjoHeaJjP",
        "outputId": "e6db26c9-6b1b-41a9-a32b-4b72b4499495"
      },
      "execution_count": 87,
      "outputs": [
        {
          "output_type": "stream",
          "name": "stdout",
          "text": [
            "179\n",
            "179\n"
          ]
        }
      ]
    },
    {
      "cell_type": "code",
      "source": [
        "# padding each sequence with a certain value in order to make them all the same length because RNN does not accept variable sequence lengths\n",
        "to_pad = 3000\n",
        "new_seq = []\n",
        "for one_seq in sequences:\n",
        "    len_one_seq = len(one_seq)\n",
        "    # -1 is the special value that sequences are padded with that the RNN can mask\n",
        "    last_val = -100\n",
        "    n = to_pad - len_one_seq\n",
        "   \n",
        "    to_concat = np.full((n, len(one_seq[0])), -100)\n",
        "    new_one_seq = np.concatenate([one_seq, to_concat])\n",
        "    new_seq.append(new_one_seq)\n",
        "\n",
        "\n",
        "# truncate each sequence to the desired length (e.g how many windows in each training sequence?)\n",
        "from keras.preprocessing.sequence import pad_sequences\n",
        "seq_len = 177\n",
        "final_seq = pad_sequences(new_seq, maxlen=seq_len, padding='post', dtype='float', truncating='post')\n",
        "\n",
        "sequences = np.array(final_seq)\n",
        "sequences.shape"
      ],
      "metadata": {
        "colab": {
          "base_uri": "https://localhost:8080/"
        },
        "id": "90PAmObNb-i2",
        "outputId": "e81b9b10-f383-4f48-9cc8-2cf574a548a5"
      },
      "execution_count": 88,
      "outputs": [
        {
          "output_type": "execute_result",
          "data": {
            "text/plain": [
              "(179, 177, 6)"
            ]
          },
          "metadata": {},
          "execution_count": 88
        }
      ]
    },
    {
      "cell_type": "code",
      "source": [
        "#splitting into training and testing sets \n",
        "\n",
        "# how many samples for testing and how many for training? in this case\n",
        "testingnum = int(len(smartphonedfs)*testing_percent)\n",
        "\n",
        "x_train = np.array(sequences[1:-testingnum])\n",
        "y_train = np.array(actiontargets[1:-testingnum])\n",
        "\n",
        "x_test = np.array(sequences[-testingnum:])\n",
        "y_test = np.array(actiontargets[-testingnum:])"
      ],
      "metadata": {
        "id": "45upMpOCbTOg"
      },
      "execution_count": 89,
      "outputs": []
    },
    {
      "cell_type": "code",
      "source": [
        "# model constants\n",
        "BATCH_SIZE = 50\n",
        "EPOCHS = 10"
      ],
      "metadata": {
        "id": "NApVWnqhcRa6"
      },
      "execution_count": 90,
      "outputs": []
    },
    {
      "cell_type": "code",
      "source": [
        "# building the rnn model (adding layers)\n",
        "\n",
        "accuracies = []\n",
        "for _ in range (10):\n",
        "  model = Sequential()\n",
        "  # add masking layer to the RNN to avoid the padded values in series since they are of variable length\n",
        "  model.add(tf.keras.layers.Masking(mask_value=-100, input_shape=(seq_len, 6)))\n",
        "  model.add(LSTM(128, input_shape=(x_train.shape[1:]), return_sequences=True))\n",
        "\n",
        "  model.add(Dropout(0.2))\n",
        "  model.add(BatchNormalization())  \n",
        "\n",
        "  model.add(LSTM(128, return_sequences=True))\n",
        "  model.add(Dropout(0.1))\n",
        "  model.add(BatchNormalization())\n",
        "\n",
        "  model.add(LSTM(128))\n",
        "  model.add(Dropout(0.2))\n",
        "  model.add(BatchNormalization())\n",
        "\n",
        "  model.add(Dense(32, activation='relu'))\n",
        "  model.add(Dropout(0.2))\n",
        "\n",
        "  # last layer has 2 nodes due to there being binary classification\n",
        "  model.add(Dense(6, activation='softmax'))\n",
        "\n",
        "  opt = tf.keras.optimizers.Adam(learning_rate=0.001, decay=1e-6)\n",
        "    \n",
        "  model.compile(\n",
        "    loss='sparse_categorical_crossentropy',\n",
        "    optimizer=opt,\n",
        "    metrics=['accuracy'])\n",
        "\n",
        "\n",
        "  # training the model\n",
        "  model.fit(x_train, y_train, epochs=EPOCHS, batch_size=BATCH_SIZE, validation_data=(x_test,y_test), shuffle=False)\n",
        "  result = model.evaluate(x_test,y_test)\n",
        "  accuracies.append(result[1])\n",
        "\n",
        "mean_accuracy = sum(accuracies)/len(accuracies)\n",
        "print('mean accuracy: ' + str(mean_accuracy))\n",
        "print('standard_deviation:' + str(np.std(accuracies)))"
      ],
      "metadata": {
        "colab": {
          "base_uri": "https://localhost:8080/"
        },
        "id": "7ob2LUPicg1e",
        "outputId": "1dc16d0a-5bb6-45dc-db37-124a94f52874"
      },
      "execution_count": 91,
      "outputs": [
        {
          "output_type": "stream",
          "name": "stdout",
          "text": [
            "Epoch 1/10\n",
            "2/2 [==============================] - 20s 6s/step - loss: 1.9195 - accuracy: 0.3596 - val_loss: 1.6614 - val_accuracy: 0.4045\n",
            "Epoch 2/10\n",
            "2/2 [==============================] - 3s 1s/step - loss: 1.2309 - accuracy: 0.5393 - val_loss: 1.5810 - val_accuracy: 0.4270\n",
            "Epoch 3/10\n",
            "2/2 [==============================] - 3s 2s/step - loss: 0.9641 - accuracy: 0.6180 - val_loss: 1.5264 - val_accuracy: 0.4270\n",
            "Epoch 4/10\n",
            "2/2 [==============================] - 3s 2s/step - loss: 0.7275 - accuracy: 0.6854 - val_loss: 1.4912 - val_accuracy: 0.4382\n",
            "Epoch 5/10\n",
            "2/2 [==============================] - 2s 1s/step - loss: 0.7037 - accuracy: 0.7528 - val_loss: 1.4620 - val_accuracy: 0.4382\n",
            "Epoch 6/10\n",
            "2/2 [==============================] - 2s 1s/step - loss: 0.6264 - accuracy: 0.7640 - val_loss: 1.4367 - val_accuracy: 0.4382\n",
            "Epoch 7/10\n",
            "2/2 [==============================] - 2s 1s/step - loss: 0.5840 - accuracy: 0.7640 - val_loss: 1.4157 - val_accuracy: 0.4494\n",
            "Epoch 8/10\n",
            "2/2 [==============================] - 2s 1s/step - loss: 0.5138 - accuracy: 0.8202 - val_loss: 1.3969 - val_accuracy: 0.4831\n",
            "Epoch 9/10\n",
            "2/2 [==============================] - 2s 1s/step - loss: 0.4853 - accuracy: 0.8090 - val_loss: 1.3844 - val_accuracy: 0.4944\n",
            "Epoch 10/10\n",
            "2/2 [==============================] - 3s 1s/step - loss: 0.4434 - accuracy: 0.8539 - val_loss: 1.3738 - val_accuracy: 0.4607\n",
            "3/3 [==============================] - 1s 210ms/step - loss: 1.3738 - accuracy: 0.4607\n",
            "Epoch 1/10\n",
            "2/2 [==============================] - 19s 6s/step - loss: 2.1476 - accuracy: 0.2809 - val_loss: 1.6976 - val_accuracy: 0.3483\n",
            "Epoch 2/10\n",
            "2/2 [==============================] - 2s 1s/step - loss: 1.1443 - accuracy: 0.5843 - val_loss: 1.6113 - val_accuracy: 0.3933\n",
            "Epoch 3/10\n",
            "2/2 [==============================] - 2s 1s/step - loss: 0.9048 - accuracy: 0.6742 - val_loss: 1.5580 - val_accuracy: 0.4045\n",
            "Epoch 4/10\n",
            "2/2 [==============================] - 2s 1s/step - loss: 0.7078 - accuracy: 0.7528 - val_loss: 1.5173 - val_accuracy: 0.4607\n",
            "Epoch 5/10\n",
            "2/2 [==============================] - 2s 1s/step - loss: 0.6283 - accuracy: 0.8090 - val_loss: 1.4857 - val_accuracy: 0.4719\n",
            "Epoch 6/10\n",
            "2/2 [==============================] - 3s 2s/step - loss: 0.4638 - accuracy: 0.8876 - val_loss: 1.4575 - val_accuracy: 0.4831\n",
            "Epoch 7/10\n",
            "2/2 [==============================] - 3s 2s/step - loss: 0.4154 - accuracy: 0.8764 - val_loss: 1.4355 - val_accuracy: 0.4831\n",
            "Epoch 8/10\n",
            "2/2 [==============================] - 3s 2s/step - loss: 0.4309 - accuracy: 0.8652 - val_loss: 1.4161 - val_accuracy: 0.5169\n",
            "Epoch 9/10\n",
            "2/2 [==============================] - 3s 2s/step - loss: 0.3205 - accuracy: 0.9213 - val_loss: 1.4048 - val_accuracy: 0.5281\n",
            "Epoch 10/10\n",
            "2/2 [==============================] - 3s 2s/step - loss: 0.2717 - accuracy: 0.9551 - val_loss: 1.3927 - val_accuracy: 0.5281\n",
            "3/3 [==============================] - 1s 240ms/step - loss: 1.3927 - accuracy: 0.5281\n",
            "Epoch 1/10\n",
            "2/2 [==============================] - 20s 6s/step - loss: 2.2629 - accuracy: 0.2360 - val_loss: 1.6774 - val_accuracy: 0.4270\n",
            "Epoch 2/10\n",
            "2/2 [==============================] - 3s 2s/step - loss: 1.1259 - accuracy: 0.5843 - val_loss: 1.5952 - val_accuracy: 0.4382\n",
            "Epoch 3/10\n",
            "2/2 [==============================] - 3s 2s/step - loss: 0.7466 - accuracy: 0.7528 - val_loss: 1.5513 - val_accuracy: 0.4382\n",
            "Epoch 4/10\n",
            "2/2 [==============================] - 3s 2s/step - loss: 0.7817 - accuracy: 0.6966 - val_loss: 1.5262 - val_accuracy: 0.4382\n",
            "Epoch 5/10\n",
            "2/2 [==============================] - 3s 2s/step - loss: 0.5982 - accuracy: 0.8202 - val_loss: 1.5095 - val_accuracy: 0.4270\n",
            "Epoch 6/10\n",
            "2/2 [==============================] - 3s 2s/step - loss: 0.4537 - accuracy: 0.8652 - val_loss: 1.4978 - val_accuracy: 0.4157\n",
            "Epoch 7/10\n",
            "2/2 [==============================] - 3s 2s/step - loss: 0.4396 - accuracy: 0.8764 - val_loss: 1.4921 - val_accuracy: 0.4157\n",
            "Epoch 8/10\n",
            "2/2 [==============================] - 3s 2s/step - loss: 0.3718 - accuracy: 0.8764 - val_loss: 1.4892 - val_accuracy: 0.4382\n",
            "Epoch 9/10\n",
            "2/2 [==============================] - 3s 2s/step - loss: 0.3343 - accuracy: 0.8876 - val_loss: 1.4887 - val_accuracy: 0.4607\n",
            "Epoch 10/10\n",
            "2/2 [==============================] - 3s 2s/step - loss: 0.3273 - accuracy: 0.8989 - val_loss: 1.4911 - val_accuracy: 0.4382\n",
            "3/3 [==============================] - 1s 236ms/step - loss: 1.4911 - accuracy: 0.4382\n",
            "Epoch 1/10\n",
            "2/2 [==============================] - 20s 6s/step - loss: 2.0080 - accuracy: 0.3371 - val_loss: 1.6723 - val_accuracy: 0.4157\n",
            "Epoch 2/10\n",
            "2/2 [==============================] - 2s 1s/step - loss: 1.1381 - accuracy: 0.5618 - val_loss: 1.6208 - val_accuracy: 0.3933\n",
            "Epoch 3/10\n",
            "2/2 [==============================] - 3s 2s/step - loss: 0.8660 - accuracy: 0.6854 - val_loss: 1.5887 - val_accuracy: 0.3820\n",
            "Epoch 4/10\n",
            "2/2 [==============================] - 3s 1s/step - loss: 0.7731 - accuracy: 0.7191 - val_loss: 1.5632 - val_accuracy: 0.3708\n",
            "Epoch 5/10\n",
            "2/2 [==============================] - 3s 2s/step - loss: 0.6424 - accuracy: 0.7079 - val_loss: 1.5438 - val_accuracy: 0.3483\n",
            "Epoch 6/10\n",
            "2/2 [==============================] - 3s 1s/step - loss: 0.5321 - accuracy: 0.8202 - val_loss: 1.5243 - val_accuracy: 0.3596\n",
            "Epoch 7/10\n",
            "2/2 [==============================] - 3s 1s/step - loss: 0.5518 - accuracy: 0.8090 - val_loss: 1.5062 - val_accuracy: 0.3371\n",
            "Epoch 8/10\n",
            "2/2 [==============================] - 3s 2s/step - loss: 0.3969 - accuracy: 0.8652 - val_loss: 1.4894 - val_accuracy: 0.3483\n",
            "Epoch 9/10\n",
            "2/2 [==============================] - 3s 2s/step - loss: 0.4019 - accuracy: 0.8652 - val_loss: 1.4746 - val_accuracy: 0.3483\n",
            "Epoch 10/10\n",
            "2/2 [==============================] - 3s 2s/step - loss: 0.3666 - accuracy: 0.8989 - val_loss: 1.4608 - val_accuracy: 0.3371\n",
            "3/3 [==============================] - 1s 234ms/step - loss: 1.4608 - accuracy: 0.3371\n",
            "Epoch 1/10\n",
            "2/2 [==============================] - 20s 6s/step - loss: 1.8356 - accuracy: 0.3034 - val_loss: 1.6841 - val_accuracy: 0.4607\n",
            "Epoch 2/10\n",
            "2/2 [==============================] - 3s 1s/step - loss: 1.0954 - accuracy: 0.6067 - val_loss: 1.6287 - val_accuracy: 0.4719\n",
            "Epoch 3/10\n",
            "2/2 [==============================] - 3s 2s/step - loss: 0.8765 - accuracy: 0.6517 - val_loss: 1.5820 - val_accuracy: 0.4831\n",
            "Epoch 4/10\n",
            "2/2 [==============================] - 3s 2s/step - loss: 0.6361 - accuracy: 0.7753 - val_loss: 1.5382 - val_accuracy: 0.4719\n",
            "Epoch 5/10\n",
            "2/2 [==============================] - 3s 1s/step - loss: 0.6752 - accuracy: 0.7753 - val_loss: 1.5068 - val_accuracy: 0.4719\n",
            "Epoch 6/10\n",
            "2/2 [==============================] - 2s 1s/step - loss: 0.5468 - accuracy: 0.7978 - val_loss: 1.4831 - val_accuracy: 0.4382\n",
            "Epoch 7/10\n",
            "2/2 [==============================] - 3s 2s/step - loss: 0.4347 - accuracy: 0.8427 - val_loss: 1.4586 - val_accuracy: 0.4270\n",
            "Epoch 8/10\n",
            "2/2 [==============================] - 3s 2s/step - loss: 0.3904 - accuracy: 0.8764 - val_loss: 1.4361 - val_accuracy: 0.4270\n",
            "Epoch 9/10\n",
            "2/2 [==============================] - 3s 2s/step - loss: 0.3720 - accuracy: 0.9213 - val_loss: 1.4144 - val_accuracy: 0.4157\n",
            "Epoch 10/10\n",
            "2/2 [==============================] - 3s 1s/step - loss: 0.3121 - accuracy: 0.9213 - val_loss: 1.3908 - val_accuracy: 0.4382\n",
            "3/3 [==============================] - 1s 223ms/step - loss: 1.3908 - accuracy: 0.4382\n",
            "Epoch 1/10\n",
            "2/2 [==============================] - 19s 6s/step - loss: 2.2615 - accuracy: 0.2247 - val_loss: 1.7268 - val_accuracy: 0.1910\n",
            "Epoch 2/10\n",
            "2/2 [==============================] - 2s 1s/step - loss: 1.2630 - accuracy: 0.5393 - val_loss: 1.6757 - val_accuracy: 0.2360\n",
            "Epoch 3/10\n",
            "2/2 [==============================] - 2s 1s/step - loss: 0.9553 - accuracy: 0.6404 - val_loss: 1.6412 - val_accuracy: 0.3146\n",
            "Epoch 4/10\n",
            "2/2 [==============================] - 2s 1s/step - loss: 0.8290 - accuracy: 0.6966 - val_loss: 1.6151 - val_accuracy: 0.3596\n",
            "Epoch 5/10\n",
            "2/2 [==============================] - 3s 2s/step - loss: 0.8046 - accuracy: 0.6854 - val_loss: 1.5986 - val_accuracy: 0.3596\n",
            "Epoch 6/10\n",
            "2/2 [==============================] - 2s 1s/step - loss: 0.5929 - accuracy: 0.8090 - val_loss: 1.5863 - val_accuracy: 0.3258\n",
            "Epoch 7/10\n",
            "2/2 [==============================] - 2s 1s/step - loss: 0.5649 - accuracy: 0.8427 - val_loss: 1.5678 - val_accuracy: 0.3371\n",
            "Epoch 8/10\n",
            "2/2 [==============================] - 2s 1s/step - loss: 0.5655 - accuracy: 0.8202 - val_loss: 1.5558 - val_accuracy: 0.3708\n",
            "Epoch 9/10\n",
            "2/2 [==============================] - 2s 1s/step - loss: 0.4883 - accuracy: 0.7978 - val_loss: 1.5439 - val_accuracy: 0.3708\n",
            "Epoch 10/10\n",
            "2/2 [==============================] - 2s 1s/step - loss: 0.4151 - accuracy: 0.8764 - val_loss: 1.5326 - val_accuracy: 0.3483\n",
            "3/3 [==============================] - 1s 218ms/step - loss: 1.5326 - accuracy: 0.3483\n",
            "Epoch 1/10\n",
            "2/2 [==============================] - 19s 6s/step - loss: 2.1662 - accuracy: 0.2135 - val_loss: 1.6957 - val_accuracy: 0.3258\n",
            "Epoch 2/10\n",
            "2/2 [==============================] - 2s 1s/step - loss: 1.2647 - accuracy: 0.5618 - val_loss: 1.6091 - val_accuracy: 0.5730\n",
            "Epoch 3/10\n",
            "2/2 [==============================] - 2s 1s/step - loss: 0.8896 - accuracy: 0.7303 - val_loss: 1.5528 - val_accuracy: 0.6292\n",
            "Epoch 4/10\n",
            "2/2 [==============================] - 2s 1s/step - loss: 0.7916 - accuracy: 0.6966 - val_loss: 1.5095 - val_accuracy: 0.6629\n",
            "Epoch 5/10\n",
            "2/2 [==============================] - 2s 1s/step - loss: 0.6679 - accuracy: 0.7191 - val_loss: 1.4774 - val_accuracy: 0.6404\n",
            "Epoch 6/10\n",
            "2/2 [==============================] - 3s 1s/step - loss: 0.6213 - accuracy: 0.8202 - val_loss: 1.4479 - val_accuracy: 0.6180\n",
            "Epoch 7/10\n",
            "2/2 [==============================] - 2s 1s/step - loss: 0.5764 - accuracy: 0.7865 - val_loss: 1.4200 - val_accuracy: 0.5730\n",
            "Epoch 8/10\n",
            "2/2 [==============================] - 2s 1s/step - loss: 0.4540 - accuracy: 0.8652 - val_loss: 1.3971 - val_accuracy: 0.5730\n",
            "Epoch 9/10\n",
            "2/2 [==============================] - 2s 1s/step - loss: 0.4539 - accuracy: 0.8427 - val_loss: 1.3747 - val_accuracy: 0.5393\n",
            "Epoch 10/10\n",
            "2/2 [==============================] - 2s 1s/step - loss: 0.3662 - accuracy: 0.9101 - val_loss: 1.3574 - val_accuracy: 0.4944\n",
            "3/3 [==============================] - 1s 222ms/step - loss: 1.3574 - accuracy: 0.4944\n",
            "Epoch 1/10\n",
            "2/2 [==============================] - 20s 6s/step - loss: 2.0217 - accuracy: 0.2584 - val_loss: 1.6878 - val_accuracy: 0.5056\n",
            "Epoch 2/10\n",
            "2/2 [==============================] - 2s 1s/step - loss: 1.2170 - accuracy: 0.5393 - val_loss: 1.5950 - val_accuracy: 0.5393\n",
            "Epoch 3/10\n",
            "2/2 [==============================] - 2s 1s/step - loss: 0.8314 - accuracy: 0.6629 - val_loss: 1.5333 - val_accuracy: 0.5056\n",
            "Epoch 4/10\n",
            "2/2 [==============================] - 2s 1s/step - loss: 0.7684 - accuracy: 0.7079 - val_loss: 1.4805 - val_accuracy: 0.5056\n",
            "Epoch 5/10\n",
            "2/2 [==============================] - 3s 1s/step - loss: 0.6030 - accuracy: 0.7865 - val_loss: 1.4335 - val_accuracy: 0.5169\n",
            "Epoch 6/10\n",
            "2/2 [==============================] - 2s 1s/step - loss: 0.5898 - accuracy: 0.7865 - val_loss: 1.3951 - val_accuracy: 0.5506\n",
            "Epoch 7/10\n",
            "2/2 [==============================] - 3s 2s/step - loss: 0.4589 - accuracy: 0.8539 - val_loss: 1.3625 - val_accuracy: 0.5843\n",
            "Epoch 8/10\n",
            "2/2 [==============================] - 2s 1s/step - loss: 0.4928 - accuracy: 0.8652 - val_loss: 1.3340 - val_accuracy: 0.5618\n",
            "Epoch 9/10\n",
            "2/2 [==============================] - 2s 1s/step - loss: 0.3700 - accuracy: 0.8989 - val_loss: 1.3151 - val_accuracy: 0.5506\n",
            "Epoch 10/10\n",
            "2/2 [==============================] - 2s 2s/step - loss: 0.3839 - accuracy: 0.8764 - val_loss: 1.2966 - val_accuracy: 0.5618\n",
            "3/3 [==============================] - 1s 224ms/step - loss: 1.2966 - accuracy: 0.5618\n",
            "Epoch 1/10\n",
            "2/2 [==============================] - 20s 6s/step - loss: 2.1732 - accuracy: 0.1685 - val_loss: 1.6904 - val_accuracy: 0.4607\n",
            "Epoch 2/10\n",
            "2/2 [==============================] - 2s 1s/step - loss: 1.1368 - accuracy: 0.5169 - val_loss: 1.6030 - val_accuracy: 0.5281\n",
            "Epoch 3/10\n",
            "2/2 [==============================] - 2s 1s/step - loss: 0.9838 - accuracy: 0.5955 - val_loss: 1.5464 - val_accuracy: 0.5393\n",
            "Epoch 4/10\n",
            "2/2 [==============================] - 2s 1s/step - loss: 0.7731 - accuracy: 0.7191 - val_loss: 1.5097 - val_accuracy: 0.5506\n",
            "Epoch 5/10\n",
            "2/2 [==============================] - 2s 1s/step - loss: 0.6224 - accuracy: 0.7640 - val_loss: 1.4778 - val_accuracy: 0.5281\n",
            "Epoch 6/10\n",
            "2/2 [==============================] - 2s 1s/step - loss: 0.5547 - accuracy: 0.8652 - val_loss: 1.4506 - val_accuracy: 0.5281\n",
            "Epoch 7/10\n",
            "2/2 [==============================] - 3s 1s/step - loss: 0.4808 - accuracy: 0.8202 - val_loss: 1.4273 - val_accuracy: 0.5506\n",
            "Epoch 8/10\n",
            "2/2 [==============================] - 2s 1s/step - loss: 0.4119 - accuracy: 0.8315 - val_loss: 1.4084 - val_accuracy: 0.5506\n",
            "Epoch 9/10\n",
            "2/2 [==============================] - 2s 1s/step - loss: 0.3275 - accuracy: 0.8989 - val_loss: 1.3911 - val_accuracy: 0.5506\n",
            "Epoch 10/10\n",
            "2/2 [==============================] - 2s 1s/step - loss: 0.2995 - accuracy: 0.9101 - val_loss: 1.3723 - val_accuracy: 0.5618\n",
            "3/3 [==============================] - 1s 220ms/step - loss: 1.3723 - accuracy: 0.5618\n",
            "Epoch 1/10\n",
            "2/2 [==============================] - 20s 6s/step - loss: 2.0855 - accuracy: 0.2135 - val_loss: 1.6820 - val_accuracy: 0.4831\n",
            "Epoch 2/10\n",
            "2/2 [==============================] - 3s 1s/step - loss: 1.1709 - accuracy: 0.5393 - val_loss: 1.6146 - val_accuracy: 0.5281\n",
            "Epoch 3/10\n",
            "2/2 [==============================] - 2s 1s/step - loss: 0.8552 - accuracy: 0.6742 - val_loss: 1.5659 - val_accuracy: 0.4494\n",
            "Epoch 4/10\n",
            "2/2 [==============================] - 2s 1s/step - loss: 0.7004 - accuracy: 0.7640 - val_loss: 1.5242 - val_accuracy: 0.4607\n",
            "Epoch 5/10\n",
            "2/2 [==============================] - 2s 1s/step - loss: 0.5073 - accuracy: 0.8652 - val_loss: 1.4873 - val_accuracy: 0.5393\n",
            "Epoch 6/10\n",
            "2/2 [==============================] - 2s 1s/step - loss: 0.5307 - accuracy: 0.8539 - val_loss: 1.4599 - val_accuracy: 0.5169\n",
            "Epoch 7/10\n",
            "2/2 [==============================] - 2s 1s/step - loss: 0.6045 - accuracy: 0.7528 - val_loss: 1.4372 - val_accuracy: 0.5393\n",
            "Epoch 8/10\n",
            "2/2 [==============================] - 2s 1s/step - loss: 0.5156 - accuracy: 0.8202 - val_loss: 1.4175 - val_accuracy: 0.5281\n",
            "Epoch 9/10\n",
            "2/2 [==============================] - 2s 1s/step - loss: 0.3985 - accuracy: 0.8539 - val_loss: 1.3982 - val_accuracy: 0.5393\n",
            "Epoch 10/10\n",
            "2/2 [==============================] - 2s 1s/step - loss: 0.3617 - accuracy: 0.8989 - val_loss: 1.3815 - val_accuracy: 0.5281\n",
            "3/3 [==============================] - 1s 221ms/step - loss: 1.3815 - accuracy: 0.5281\n",
            "mean accuracy: 0.4696629226207733\n",
            "standard_deviation:0.07666840556569568\n"
          ]
        }
      ]
    }
  ]
}