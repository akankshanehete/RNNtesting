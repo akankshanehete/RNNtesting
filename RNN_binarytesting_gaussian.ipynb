{
  "cells": [
    {
      "cell_type": "markdown",
      "metadata": {
        "id": "view-in-github",
        "colab_type": "text"
      },
      "source": [
        "<a href=\"https://colab.research.google.com/github/akankshanehete/RNNtesting/blob/main/RNN_binarytesting_gaussian.ipynb\" target=\"_parent\"><img src=\"https://colab.research.google.com/assets/colab-badge.svg\" alt=\"Open In Colab\"/></a>"
      ]
    },
    {
      "cell_type": "code",
      "execution_count": 481,
      "metadata": {
        "id": "U-M9CLQVSpMi"
      },
      "outputs": [],
      "source": [
        "import os\n",
        "import pandas as pd\n",
        "import numpy as np\n",
        "import matplotlib.pyplot as plt\n",
        "import seaborn as sns\n",
        "from matplotlib.pyplot import figure\n",
        "from google.colab import drive\n",
        "import tensorflow as tf\n",
        "from tensorflow.keras.models import Sequential\n",
        "from tensorflow.keras.layers import Dense, Dropout, LSTM, BatchNormalization,Masking\n",
        "from scipy import stats"
      ]
    },
    {
      "cell_type": "code",
      "source": [
        "#PARAMETERS\n",
        "\n",
        "testingfile = '024'\n",
        "# 0 for normal 20% imbalance, 1 for aggressive 20% imbalance\n",
        "aggressive_or_normal = int(testingfile[0])\n",
        "scenario = int(testingfile[1])\n",
        "subject_to_train = int(testingfile[2])\n",
        "action = int(testingfile[2])\n",
        "\n"
      ],
      "metadata": {
        "id": "TwWrInniDeDH"
      },
      "execution_count": 482,
      "outputs": []
    },
    {
      "cell_type": "code",
      "execution_count": 483,
      "metadata": {
        "id": "XH79_dYbS3n2"
      },
      "outputs": [],
      "source": [
        "#%% List of labels for each column of the dataframe\n",
        "\n",
        "columns = ['Headx','Heady', 'Headz','LWrsx','LWrsy', 'LWrsz','LElbx','LElby','LElbz','RWrsx','RWrsy','RWrsz','RElbx','RElby','RElbz','LAnkx','LAnky','LAnkz','LKnex','LKney','LKnez','RAnkx','RAnky','RAnkz','RKnex','RKney','RKnez']\n",
        "columnswtime = ['Time', 'Headx','Heady', 'Headz','LWrsx','LWrsy', 'LWrsz','LElbx','LElby','LElbz','RWrsx','RWrsy','RWrsz','RElbx','RElby','RElbz','LAnkx','LAnky','LAnkz','LKnex','LKney','LKnez','RAnkx','RAnky','RAnkz','RKnex','RKney','RKnez']\n",
        "x_columns = ['Headx', 'LWrsx', 'LElbx', 'RWrsx', 'RElbx','LAnkx','RAnkx', 'LKnex','RKnex']\n",
        "y_columns = ['Heady', 'LWrsy', 'LElby', 'RWrsy', 'RElby','LAnky','RAnky', 'LKney','RKney']\n",
        "z_columns = ['Headz', 'LWrsz', 'LElbz', 'RWrsz', 'RElbz','LAnkz','RAnkz', 'LKnez','RKnez']"
      ]
    },
    {
      "cell_type": "code",
      "execution_count": 484,
      "metadata": {
        "id": "OTYck88KS4F2",
        "colab": {
          "base_uri": "https://localhost:8080/"
        },
        "outputId": "537a81d3-ef10-49a0-912b-aa745a9619fa"
      },
      "outputs": [
        {
          "output_type": "stream",
          "name": "stdout",
          "text": [
            "Drive already mounted at /content/gdrive; to attempt to forcibly remount, call drive.mount(\"/content/gdrive\", force_remount=True).\n"
          ]
        }
      ],
      "source": [
        "drive.mount('/content/gdrive')\n",
        "path='/content/gdrive/My Drive/Colab Notebooks/Sensor_Datasets_RNNs/sensordataset/sub1/normal/Clapping.csv'"
      ]
    },
    {
      "cell_type": "code",
      "execution_count": 485,
      "metadata": {
        "id": "y3n8_ifAS8Z7",
        "colab": {
          "base_uri": "https://localhost:8080/"
        },
        "outputId": "d8ae9904-91fe-455e-86aa-50988d9a2490"
      },
      "outputs": [
        {
          "output_type": "stream",
          "name": "stdout",
          "text": [
            "['/content/gdrive/My Drive/Colab Notebooks/Sensor_Datasets_RNNs/sensordataset/sub10/aggressive/Punching.csv', '/content/gdrive/My Drive/Colab Notebooks/Sensor_Datasets_RNNs/sensordataset/sub10/aggressive/Kneeing.csv', '/content/gdrive/My Drive/Colab Notebooks/Sensor_Datasets_RNNs/sensordataset/sub10/aggressive/Elbowing.csv', '/content/gdrive/My Drive/Colab Notebooks/Sensor_Datasets_RNNs/sensordataset/sub10/aggressive/Pushing.csv', '/content/gdrive/My Drive/Colab Notebooks/Sensor_Datasets_RNNs/sensordataset/sub10/aggressive/Frontkicking.csv', '/content/gdrive/My Drive/Colab Notebooks/Sensor_Datasets_RNNs/sensordataset/sub10/aggressive/Sidekicking.csv', '/content/gdrive/My Drive/Colab Notebooks/Sensor_Datasets_RNNs/sensordataset/sub10/aggressive/Pulling.csv', '/content/gdrive/My Drive/Colab Notebooks/Sensor_Datasets_RNNs/sensordataset/sub10/aggressive/Headering.csv', '/content/gdrive/My Drive/Colab Notebooks/Sensor_Datasets_RNNs/sensordataset/sub10/aggressive/Slapping.csv', '/content/gdrive/My Drive/Colab Notebooks/Sensor_Datasets_RNNs/sensordataset/sub10/aggressive/Hamering.csv', '/content/gdrive/My Drive/Colab Notebooks/Sensor_Datasets_RNNs/sensordataset/sub10/normal/Clapping.csv', '/content/gdrive/My Drive/Colab Notebooks/Sensor_Datasets_RNNs/sensordataset/sub10/normal/Jumping.csv', '/content/gdrive/My Drive/Colab Notebooks/Sensor_Datasets_RNNs/sensordataset/sub10/normal/Running.csv', '/content/gdrive/My Drive/Colab Notebooks/Sensor_Datasets_RNNs/sensordataset/sub10/normal/Seating.csv', '/content/gdrive/My Drive/Colab Notebooks/Sensor_Datasets_RNNs/sensordataset/sub10/normal/Handshaking.csv', '/content/gdrive/My Drive/Colab Notebooks/Sensor_Datasets_RNNs/sensordataset/sub10/normal/Standing.csv', '/content/gdrive/My Drive/Colab Notebooks/Sensor_Datasets_RNNs/sensordataset/sub10/normal/Hugging.csv', '/content/gdrive/My Drive/Colab Notebooks/Sensor_Datasets_RNNs/sensordataset/sub10/normal/Walking.csv', '/content/gdrive/My Drive/Colab Notebooks/Sensor_Datasets_RNNs/sensordataset/sub10/normal/Bowing.csv', '/content/gdrive/My Drive/Colab Notebooks/Sensor_Datasets_RNNs/sensordataset/sub3/normal/Handshaking.csv', '/content/gdrive/My Drive/Colab Notebooks/Sensor_Datasets_RNNs/sensordataset/sub3/normal/Clapping.csv', '/content/gdrive/My Drive/Colab Notebooks/Sensor_Datasets_RNNs/sensordataset/sub3/normal/Seating.csv', '/content/gdrive/My Drive/Colab Notebooks/Sensor_Datasets_RNNs/sensordataset/sub3/normal/Jumping.csv', '/content/gdrive/My Drive/Colab Notebooks/Sensor_Datasets_RNNs/sensordataset/sub3/normal/Running.csv', '/content/gdrive/My Drive/Colab Notebooks/Sensor_Datasets_RNNs/sensordataset/sub3/normal/Hugging.csv', '/content/gdrive/My Drive/Colab Notebooks/Sensor_Datasets_RNNs/sensordataset/sub3/normal/Walking.csv', '/content/gdrive/My Drive/Colab Notebooks/Sensor_Datasets_RNNs/sensordataset/sub3/normal/Waving.csv', '/content/gdrive/My Drive/Colab Notebooks/Sensor_Datasets_RNNs/sensordataset/sub3/normal/Standing.csv', '/content/gdrive/My Drive/Colab Notebooks/Sensor_Datasets_RNNs/sensordataset/sub3/normal/Bowing.csv', '/content/gdrive/My Drive/Colab Notebooks/Sensor_Datasets_RNNs/sensordataset/sub3/aggressive/Punching.csv', '/content/gdrive/My Drive/Colab Notebooks/Sensor_Datasets_RNNs/sensordataset/sub3/aggressive/Kneeing.csv', '/content/gdrive/My Drive/Colab Notebooks/Sensor_Datasets_RNNs/sensordataset/sub3/aggressive/Headering.csv', '/content/gdrive/My Drive/Colab Notebooks/Sensor_Datasets_RNNs/sensordataset/sub3/aggressive/Sidekicking.csv', '/content/gdrive/My Drive/Colab Notebooks/Sensor_Datasets_RNNs/sensordataset/sub3/aggressive/Pushing.csv', '/content/gdrive/My Drive/Colab Notebooks/Sensor_Datasets_RNNs/sensordataset/sub3/aggressive/Frontkicking.csv', '/content/gdrive/My Drive/Colab Notebooks/Sensor_Datasets_RNNs/sensordataset/sub3/aggressive/Slapping.csv', '/content/gdrive/My Drive/Colab Notebooks/Sensor_Datasets_RNNs/sensordataset/sub3/aggressive/Pulling.csv', '/content/gdrive/My Drive/Colab Notebooks/Sensor_Datasets_RNNs/sensordataset/sub3/aggressive/Hamering.csv', '/content/gdrive/My Drive/Colab Notebooks/Sensor_Datasets_RNNs/sensordataset/sub3/aggressive/Elbowing.csv', '/content/gdrive/My Drive/Colab Notebooks/Sensor_Datasets_RNNs/sensordataset/sub5/aggressive/Kneeing.csv', '/content/gdrive/My Drive/Colab Notebooks/Sensor_Datasets_RNNs/sensordataset/sub5/aggressive/Sidekicking.csv', '/content/gdrive/My Drive/Colab Notebooks/Sensor_Datasets_RNNs/sensordataset/sub5/aggressive/Punching.csv', '/content/gdrive/My Drive/Colab Notebooks/Sensor_Datasets_RNNs/sensordataset/sub5/aggressive/Frontkicking.csv', '/content/gdrive/My Drive/Colab Notebooks/Sensor_Datasets_RNNs/sensordataset/sub5/aggressive/Headering.csv', '/content/gdrive/My Drive/Colab Notebooks/Sensor_Datasets_RNNs/sensordataset/sub5/aggressive/Hamering.csv', '/content/gdrive/My Drive/Colab Notebooks/Sensor_Datasets_RNNs/sensordataset/sub5/aggressive/Slapping.csv', '/content/gdrive/My Drive/Colab Notebooks/Sensor_Datasets_RNNs/sensordataset/sub5/aggressive/Pulling.csv', '/content/gdrive/My Drive/Colab Notebooks/Sensor_Datasets_RNNs/sensordataset/sub5/aggressive/Pushing.csv', '/content/gdrive/My Drive/Colab Notebooks/Sensor_Datasets_RNNs/sensordataset/sub5/aggressive/Elbowing.csv', '/content/gdrive/My Drive/Colab Notebooks/Sensor_Datasets_RNNs/sensordataset/sub5/normal/Clapping.csv', '/content/gdrive/My Drive/Colab Notebooks/Sensor_Datasets_RNNs/sensordataset/sub5/normal/Running.csv', '/content/gdrive/My Drive/Colab Notebooks/Sensor_Datasets_RNNs/sensordataset/sub5/normal/Handshaking.csv', '/content/gdrive/My Drive/Colab Notebooks/Sensor_Datasets_RNNs/sensordataset/sub5/normal/Jumping.csv', '/content/gdrive/My Drive/Colab Notebooks/Sensor_Datasets_RNNs/sensordataset/sub5/normal/Seating.csv', '/content/gdrive/My Drive/Colab Notebooks/Sensor_Datasets_RNNs/sensordataset/sub5/normal/Walking.csv', '/content/gdrive/My Drive/Colab Notebooks/Sensor_Datasets_RNNs/sensordataset/sub5/normal/Waving.csv', '/content/gdrive/My Drive/Colab Notebooks/Sensor_Datasets_RNNs/sensordataset/sub5/normal/Hugging.csv', '/content/gdrive/My Drive/Colab Notebooks/Sensor_Datasets_RNNs/sensordataset/sub5/normal/Standing.csv', '/content/gdrive/My Drive/Colab Notebooks/Sensor_Datasets_RNNs/sensordataset/sub5/normal/Bowing.csv', '/content/gdrive/My Drive/Colab Notebooks/Sensor_Datasets_RNNs/sensordataset/sub6/normal/Clapping.csv', '/content/gdrive/My Drive/Colab Notebooks/Sensor_Datasets_RNNs/sensordataset/sub6/normal/Jumping.csv', '/content/gdrive/My Drive/Colab Notebooks/Sensor_Datasets_RNNs/sensordataset/sub6/normal/Running.csv', '/content/gdrive/My Drive/Colab Notebooks/Sensor_Datasets_RNNs/sensordataset/sub6/normal/Handshaking.csv', '/content/gdrive/My Drive/Colab Notebooks/Sensor_Datasets_RNNs/sensordataset/sub6/normal/Seating.csv', '/content/gdrive/My Drive/Colab Notebooks/Sensor_Datasets_RNNs/sensordataset/sub6/normal/Walking.csv', '/content/gdrive/My Drive/Colab Notebooks/Sensor_Datasets_RNNs/sensordataset/sub6/normal/Hugging.csv', '/content/gdrive/My Drive/Colab Notebooks/Sensor_Datasets_RNNs/sensordataset/sub6/normal/Standing.csv', '/content/gdrive/My Drive/Colab Notebooks/Sensor_Datasets_RNNs/sensordataset/sub6/normal/Waving.csv', '/content/gdrive/My Drive/Colab Notebooks/Sensor_Datasets_RNNs/sensordataset/sub6/normal/Bowing.csv', '/content/gdrive/My Drive/Colab Notebooks/Sensor_Datasets_RNNs/sensordataset/sub6/aggressive/Kneeing.csv', '/content/gdrive/My Drive/Colab Notebooks/Sensor_Datasets_RNNs/sensordataset/sub6/aggressive/Headering.csv', '/content/gdrive/My Drive/Colab Notebooks/Sensor_Datasets_RNNs/sensordataset/sub6/aggressive/Sidekicking.csv', '/content/gdrive/My Drive/Colab Notebooks/Sensor_Datasets_RNNs/sensordataset/sub6/aggressive/Punching.csv', '/content/gdrive/My Drive/Colab Notebooks/Sensor_Datasets_RNNs/sensordataset/sub6/aggressive/Hamering.csv', '/content/gdrive/My Drive/Colab Notebooks/Sensor_Datasets_RNNs/sensordataset/sub6/aggressive/Pulling.csv', '/content/gdrive/My Drive/Colab Notebooks/Sensor_Datasets_RNNs/sensordataset/sub6/aggressive/Frontkicking.csv', '/content/gdrive/My Drive/Colab Notebooks/Sensor_Datasets_RNNs/sensordataset/sub6/aggressive/Pushing.csv', '/content/gdrive/My Drive/Colab Notebooks/Sensor_Datasets_RNNs/sensordataset/sub6/aggressive/Elbowing.csv', '/content/gdrive/My Drive/Colab Notebooks/Sensor_Datasets_RNNs/sensordataset/sub6/aggressive/Slapping.csv', '/content/gdrive/My Drive/Colab Notebooks/Sensor_Datasets_RNNs/sensordataset/sub8/normal/Running.csv', '/content/gdrive/My Drive/Colab Notebooks/Sensor_Datasets_RNNs/sensordataset/sub8/normal/Clapping.csv', '/content/gdrive/My Drive/Colab Notebooks/Sensor_Datasets_RNNs/sensordataset/sub8/normal/Handshaking.csv', '/content/gdrive/My Drive/Colab Notebooks/Sensor_Datasets_RNNs/sensordataset/sub8/normal/Jumping.csv', '/content/gdrive/My Drive/Colab Notebooks/Sensor_Datasets_RNNs/sensordataset/sub8/normal/Walking.csv', '/content/gdrive/My Drive/Colab Notebooks/Sensor_Datasets_RNNs/sensordataset/sub8/normal/Seating.csv', '/content/gdrive/My Drive/Colab Notebooks/Sensor_Datasets_RNNs/sensordataset/sub8/normal/Hugging.csv', '/content/gdrive/My Drive/Colab Notebooks/Sensor_Datasets_RNNs/sensordataset/sub8/normal/Waving.csv', '/content/gdrive/My Drive/Colab Notebooks/Sensor_Datasets_RNNs/sensordataset/sub8/normal/Standing.csv', '/content/gdrive/My Drive/Colab Notebooks/Sensor_Datasets_RNNs/sensordataset/sub8/normal/Bowing.csv', '/content/gdrive/My Drive/Colab Notebooks/Sensor_Datasets_RNNs/sensordataset/sub8/aggressive/Kneeing.csv', '/content/gdrive/My Drive/Colab Notebooks/Sensor_Datasets_RNNs/sensordataset/sub8/aggressive/Punching.csv', '/content/gdrive/My Drive/Colab Notebooks/Sensor_Datasets_RNNs/sensordataset/sub8/aggressive/Sidekicking.csv', '/content/gdrive/My Drive/Colab Notebooks/Sensor_Datasets_RNNs/sensordataset/sub8/aggressive/Headering.csv', '/content/gdrive/My Drive/Colab Notebooks/Sensor_Datasets_RNNs/sensordataset/sub8/aggressive/Hamering.csv', '/content/gdrive/My Drive/Colab Notebooks/Sensor_Datasets_RNNs/sensordataset/sub8/aggressive/Slapping.csv', '/content/gdrive/My Drive/Colab Notebooks/Sensor_Datasets_RNNs/sensordataset/sub8/aggressive/Frontkicking.csv', '/content/gdrive/My Drive/Colab Notebooks/Sensor_Datasets_RNNs/sensordataset/sub8/aggressive/Pulling.csv', '/content/gdrive/My Drive/Colab Notebooks/Sensor_Datasets_RNNs/sensordataset/sub8/aggressive/Pushing.csv', '/content/gdrive/My Drive/Colab Notebooks/Sensor_Datasets_RNNs/sensordataset/sub8/aggressive/Elbowing.csv', '/content/gdrive/My Drive/Colab Notebooks/Sensor_Datasets_RNNs/sensordataset/sub9/aggressive/Punching.csv', '/content/gdrive/My Drive/Colab Notebooks/Sensor_Datasets_RNNs/sensordataset/sub9/aggressive/Headering.csv', '/content/gdrive/My Drive/Colab Notebooks/Sensor_Datasets_RNNs/sensordataset/sub9/aggressive/Sidekicking.csv', '/content/gdrive/My Drive/Colab Notebooks/Sensor_Datasets_RNNs/sensordataset/sub9/aggressive/Hamering.csv', '/content/gdrive/My Drive/Colab Notebooks/Sensor_Datasets_RNNs/sensordataset/sub9/aggressive/Kneeing.csv', '/content/gdrive/My Drive/Colab Notebooks/Sensor_Datasets_RNNs/sensordataset/sub9/aggressive/Frontkicking.csv', '/content/gdrive/My Drive/Colab Notebooks/Sensor_Datasets_RNNs/sensordataset/sub9/aggressive/Pulling.csv', '/content/gdrive/My Drive/Colab Notebooks/Sensor_Datasets_RNNs/sensordataset/sub9/aggressive/Slapping.csv', '/content/gdrive/My Drive/Colab Notebooks/Sensor_Datasets_RNNs/sensordataset/sub9/aggressive/Elbowing.csv', '/content/gdrive/My Drive/Colab Notebooks/Sensor_Datasets_RNNs/sensordataset/sub9/aggressive/Pushing.csv', '/content/gdrive/My Drive/Colab Notebooks/Sensor_Datasets_RNNs/sensordataset/sub9/normal/Clapping.csv', '/content/gdrive/My Drive/Colab Notebooks/Sensor_Datasets_RNNs/sensordataset/sub9/normal/Running.csv', '/content/gdrive/My Drive/Colab Notebooks/Sensor_Datasets_RNNs/sensordataset/sub9/normal/Seating.csv', '/content/gdrive/My Drive/Colab Notebooks/Sensor_Datasets_RNNs/sensordataset/sub9/normal/Handshaking.csv', '/content/gdrive/My Drive/Colab Notebooks/Sensor_Datasets_RNNs/sensordataset/sub9/normal/Hugging.csv', '/content/gdrive/My Drive/Colab Notebooks/Sensor_Datasets_RNNs/sensordataset/sub9/normal/Jumping.csv', '/content/gdrive/My Drive/Colab Notebooks/Sensor_Datasets_RNNs/sensordataset/sub9/normal/Walking.csv', '/content/gdrive/My Drive/Colab Notebooks/Sensor_Datasets_RNNs/sensordataset/sub9/normal/Standing.csv', '/content/gdrive/My Drive/Colab Notebooks/Sensor_Datasets_RNNs/sensordataset/sub9/normal/Waving.csv', '/content/gdrive/My Drive/Colab Notebooks/Sensor_Datasets_RNNs/sensordataset/sub9/normal/Bowing.csv', '/content/gdrive/My Drive/Colab Notebooks/Sensor_Datasets_RNNs/sensordataset/sub7/normal/Running.csv', '/content/gdrive/My Drive/Colab Notebooks/Sensor_Datasets_RNNs/sensordataset/sub7/normal/Walking.csv', '/content/gdrive/My Drive/Colab Notebooks/Sensor_Datasets_RNNs/sensordataset/sub7/normal/Clapping.csv', '/content/gdrive/My Drive/Colab Notebooks/Sensor_Datasets_RNNs/sensordataset/sub7/normal/Handshaking.csv', '/content/gdrive/My Drive/Colab Notebooks/Sensor_Datasets_RNNs/sensordataset/sub7/normal/Seating.csv', '/content/gdrive/My Drive/Colab Notebooks/Sensor_Datasets_RNNs/sensordataset/sub7/normal/Jumping.csv', '/content/gdrive/My Drive/Colab Notebooks/Sensor_Datasets_RNNs/sensordataset/sub7/normal/Hugging.csv', '/content/gdrive/My Drive/Colab Notebooks/Sensor_Datasets_RNNs/sensordataset/sub7/normal/Waving.csv', '/content/gdrive/My Drive/Colab Notebooks/Sensor_Datasets_RNNs/sensordataset/sub7/normal/Bowing.csv', '/content/gdrive/My Drive/Colab Notebooks/Sensor_Datasets_RNNs/sensordataset/sub7/normal/Standing.csv', '/content/gdrive/My Drive/Colab Notebooks/Sensor_Datasets_RNNs/sensordataset/sub7/aggressive/Punching.csv', '/content/gdrive/My Drive/Colab Notebooks/Sensor_Datasets_RNNs/sensordataset/sub7/aggressive/Sidekicking.csv', '/content/gdrive/My Drive/Colab Notebooks/Sensor_Datasets_RNNs/sensordataset/sub7/aggressive/Kneeing.csv', '/content/gdrive/My Drive/Colab Notebooks/Sensor_Datasets_RNNs/sensordataset/sub7/aggressive/Frontkicking.csv', '/content/gdrive/My Drive/Colab Notebooks/Sensor_Datasets_RNNs/sensordataset/sub7/aggressive/Hamering.csv', '/content/gdrive/My Drive/Colab Notebooks/Sensor_Datasets_RNNs/sensordataset/sub7/aggressive/Slapping.csv', '/content/gdrive/My Drive/Colab Notebooks/Sensor_Datasets_RNNs/sensordataset/sub7/aggressive/Headering.csv', '/content/gdrive/My Drive/Colab Notebooks/Sensor_Datasets_RNNs/sensordataset/sub7/aggressive/Elbowing.csv', '/content/gdrive/My Drive/Colab Notebooks/Sensor_Datasets_RNNs/sensordataset/sub7/aggressive/Pushing.csv', '/content/gdrive/My Drive/Colab Notebooks/Sensor_Datasets_RNNs/sensordataset/sub7/aggressive/Pulling.csv', '/content/gdrive/My Drive/Colab Notebooks/Sensor_Datasets_RNNs/sensordataset/sub4/aggressive/Kneeing.csv', '/content/gdrive/My Drive/Colab Notebooks/Sensor_Datasets_RNNs/sensordataset/sub4/aggressive/Punching.csv', '/content/gdrive/My Drive/Colab Notebooks/Sensor_Datasets_RNNs/sensordataset/sub4/aggressive/Sidekicking.csv', '/content/gdrive/My Drive/Colab Notebooks/Sensor_Datasets_RNNs/sensordataset/sub4/aggressive/Pulling.csv', '/content/gdrive/My Drive/Colab Notebooks/Sensor_Datasets_RNNs/sensordataset/sub4/aggressive/Hamering.csv', '/content/gdrive/My Drive/Colab Notebooks/Sensor_Datasets_RNNs/sensordataset/sub4/aggressive/Frontkicking.csv', '/content/gdrive/My Drive/Colab Notebooks/Sensor_Datasets_RNNs/sensordataset/sub4/aggressive/Headering.csv', '/content/gdrive/My Drive/Colab Notebooks/Sensor_Datasets_RNNs/sensordataset/sub4/aggressive/Elbowing.csv', '/content/gdrive/My Drive/Colab Notebooks/Sensor_Datasets_RNNs/sensordataset/sub4/aggressive/Slapping.csv', '/content/gdrive/My Drive/Colab Notebooks/Sensor_Datasets_RNNs/sensordataset/sub4/aggressive/Pushing.csv', '/content/gdrive/My Drive/Colab Notebooks/Sensor_Datasets_RNNs/sensordataset/sub4/normal/Running.csv', '/content/gdrive/My Drive/Colab Notebooks/Sensor_Datasets_RNNs/sensordataset/sub4/normal/Jumping.csv', '/content/gdrive/My Drive/Colab Notebooks/Sensor_Datasets_RNNs/sensordataset/sub4/normal/Seating.csv', '/content/gdrive/My Drive/Colab Notebooks/Sensor_Datasets_RNNs/sensordataset/sub4/normal/Clapping.csv', '/content/gdrive/My Drive/Colab Notebooks/Sensor_Datasets_RNNs/sensordataset/sub4/normal/Walking.csv', '/content/gdrive/My Drive/Colab Notebooks/Sensor_Datasets_RNNs/sensordataset/sub4/normal/Handshaking.csv', '/content/gdrive/My Drive/Colab Notebooks/Sensor_Datasets_RNNs/sensordataset/sub4/normal/Standing.csv', '/content/gdrive/My Drive/Colab Notebooks/Sensor_Datasets_RNNs/sensordataset/sub4/normal/Hugging.csv', '/content/gdrive/My Drive/Colab Notebooks/Sensor_Datasets_RNNs/sensordataset/sub4/normal/Waving.csv', '/content/gdrive/My Drive/Colab Notebooks/Sensor_Datasets_RNNs/sensordataset/sub4/normal/Bowing.csv', '/content/gdrive/My Drive/Colab Notebooks/Sensor_Datasets_RNNs/sensordataset/sub1/normal/Seating.csv', '/content/gdrive/My Drive/Colab Notebooks/Sensor_Datasets_RNNs/sensordataset/sub1/normal/Clapping.csv', '/content/gdrive/My Drive/Colab Notebooks/Sensor_Datasets_RNNs/sensordataset/sub1/normal/Running.csv', '/content/gdrive/My Drive/Colab Notebooks/Sensor_Datasets_RNNs/sensordataset/sub1/normal/Handshaking.csv', '/content/gdrive/My Drive/Colab Notebooks/Sensor_Datasets_RNNs/sensordataset/sub1/normal/Walking.csv', '/content/gdrive/My Drive/Colab Notebooks/Sensor_Datasets_RNNs/sensordataset/sub1/normal/Jumping.csv', '/content/gdrive/My Drive/Colab Notebooks/Sensor_Datasets_RNNs/sensordataset/sub1/normal/Bowing.csv', '/content/gdrive/My Drive/Colab Notebooks/Sensor_Datasets_RNNs/sensordataset/sub1/normal/Standing.csv', '/content/gdrive/My Drive/Colab Notebooks/Sensor_Datasets_RNNs/sensordataset/sub1/normal/Waving.csv', '/content/gdrive/My Drive/Colab Notebooks/Sensor_Datasets_RNNs/sensordataset/sub1/normal/Hugging.csv', '/content/gdrive/My Drive/Colab Notebooks/Sensor_Datasets_RNNs/sensordataset/sub1/aggressive/Headering.csv', '/content/gdrive/My Drive/Colab Notebooks/Sensor_Datasets_RNNs/sensordataset/sub1/aggressive/Sidekicking.csv', '/content/gdrive/My Drive/Colab Notebooks/Sensor_Datasets_RNNs/sensordataset/sub1/aggressive/Punching.csv', '/content/gdrive/My Drive/Colab Notebooks/Sensor_Datasets_RNNs/sensordataset/sub1/aggressive/Kneeing.csv', '/content/gdrive/My Drive/Colab Notebooks/Sensor_Datasets_RNNs/sensordataset/sub1/aggressive/Hamering.csv', '/content/gdrive/My Drive/Colab Notebooks/Sensor_Datasets_RNNs/sensordataset/sub1/aggressive/Pulling.csv', '/content/gdrive/My Drive/Colab Notebooks/Sensor_Datasets_RNNs/sensordataset/sub1/aggressive/Elbowing.csv', '/content/gdrive/My Drive/Colab Notebooks/Sensor_Datasets_RNNs/sensordataset/sub1/aggressive/Frontkicking.csv', '/content/gdrive/My Drive/Colab Notebooks/Sensor_Datasets_RNNs/sensordataset/sub1/aggressive/Slapping.csv', '/content/gdrive/My Drive/Colab Notebooks/Sensor_Datasets_RNNs/sensordataset/sub1/aggressive/Pushing.csv', '/content/gdrive/My Drive/Colab Notebooks/Sensor_Datasets_RNNs/sensordataset/sub2/normal/Running.csv', '/content/gdrive/My Drive/Colab Notebooks/Sensor_Datasets_RNNs/sensordataset/sub2/normal/Clapping.csv', '/content/gdrive/My Drive/Colab Notebooks/Sensor_Datasets_RNNs/sensordataset/sub2/normal/Handshaking.csv', '/content/gdrive/My Drive/Colab Notebooks/Sensor_Datasets_RNNs/sensordataset/sub2/normal/Walking.csv', '/content/gdrive/My Drive/Colab Notebooks/Sensor_Datasets_RNNs/sensordataset/sub2/normal/Seating.csv', '/content/gdrive/My Drive/Colab Notebooks/Sensor_Datasets_RNNs/sensordataset/sub2/normal/Jumping.csv', '/content/gdrive/My Drive/Colab Notebooks/Sensor_Datasets_RNNs/sensordataset/sub2/normal/Bowing.csv', '/content/gdrive/My Drive/Colab Notebooks/Sensor_Datasets_RNNs/sensordataset/sub2/normal/Standing.csv', '/content/gdrive/My Drive/Colab Notebooks/Sensor_Datasets_RNNs/sensordataset/sub2/normal/Hugging.csv', '/content/gdrive/My Drive/Colab Notebooks/Sensor_Datasets_RNNs/sensordataset/sub2/normal/Waving.csv', '/content/gdrive/My Drive/Colab Notebooks/Sensor_Datasets_RNNs/sensordataset/sub2/aggressive/Headering.csv', '/content/gdrive/My Drive/Colab Notebooks/Sensor_Datasets_RNNs/sensordataset/sub2/aggressive/Sidekicking.csv', '/content/gdrive/My Drive/Colab Notebooks/Sensor_Datasets_RNNs/sensordataset/sub2/aggressive/Punching.csv', '/content/gdrive/My Drive/Colab Notebooks/Sensor_Datasets_RNNs/sensordataset/sub2/aggressive/Kneeing.csv', '/content/gdrive/My Drive/Colab Notebooks/Sensor_Datasets_RNNs/sensordataset/sub2/aggressive/Pulling.csv', '/content/gdrive/My Drive/Colab Notebooks/Sensor_Datasets_RNNs/sensordataset/sub2/aggressive/Hamering.csv', '/content/gdrive/My Drive/Colab Notebooks/Sensor_Datasets_RNNs/sensordataset/sub2/aggressive/Frontkicking.csv', '/content/gdrive/My Drive/Colab Notebooks/Sensor_Datasets_RNNs/sensordataset/sub2/aggressive/Elbowing.csv', '/content/gdrive/My Drive/Colab Notebooks/Sensor_Datasets_RNNs/sensordataset/sub2/aggressive/Pushing.csv', '/content/gdrive/My Drive/Colab Notebooks/Sensor_Datasets_RNNs/sensordataset/sub2/aggressive/Slapping.csv']\n",
            "['aggressive', 'aggressive', 'aggressive', 'aggressive', 'aggressive', 'aggressive', 'aggressive', 'aggressive', 'aggressive', 'aggressive', 'normal', 'normal', 'normal', 'normal', 'normal', 'normal', 'normal', 'normal', 'normal', 'normal', 'normal', 'normal', 'normal', 'normal', 'normal', 'normal', 'normal', 'normal', 'normal', 'aggressive', 'aggressive', 'aggressive', 'aggressive', 'aggressive', 'aggressive', 'aggressive', 'aggressive', 'aggressive', 'aggressive', 'aggressive', 'aggressive', 'aggressive', 'aggressive', 'aggressive', 'aggressive', 'aggressive', 'aggressive', 'aggressive', 'aggressive', 'normal', 'normal', 'normal', 'normal', 'normal', 'normal', 'normal', 'normal', 'normal', 'normal', 'normal', 'normal', 'normal', 'normal', 'normal', 'normal', 'normal', 'normal', 'normal', 'normal', 'aggressive', 'aggressive', 'aggressive', 'aggressive', 'aggressive', 'aggressive', 'aggressive', 'aggressive', 'aggressive', 'aggressive', 'normal', 'normal', 'normal', 'normal', 'normal', 'normal', 'normal', 'normal', 'normal', 'normal', 'aggressive', 'aggressive', 'aggressive', 'aggressive', 'aggressive', 'aggressive', 'aggressive', 'aggressive', 'aggressive', 'aggressive', 'aggressive', 'aggressive', 'aggressive', 'aggressive', 'aggressive', 'aggressive', 'aggressive', 'aggressive', 'aggressive', 'aggressive', 'normal', 'normal', 'normal', 'normal', 'normal', 'normal', 'normal', 'normal', 'normal', 'normal', 'normal', 'normal', 'normal', 'normal', 'normal', 'normal', 'normal', 'normal', 'normal', 'normal', 'aggressive', 'aggressive', 'aggressive', 'aggressive', 'aggressive', 'aggressive', 'aggressive', 'aggressive', 'aggressive', 'aggressive', 'aggressive', 'aggressive', 'aggressive', 'aggressive', 'aggressive', 'aggressive', 'aggressive', 'aggressive', 'aggressive', 'aggressive', 'normal', 'normal', 'normal', 'normal', 'normal', 'normal', 'normal', 'normal', 'normal', 'normal', 'normal', 'normal', 'normal', 'normal', 'normal', 'normal', 'normal', 'normal', 'normal', 'normal', 'aggressive', 'aggressive', 'aggressive', 'aggressive', 'aggressive', 'aggressive', 'aggressive', 'aggressive', 'aggressive', 'aggressive', 'normal', 'normal', 'normal', 'normal', 'normal', 'normal', 'normal', 'normal', 'normal', 'normal', 'aggressive', 'aggressive', 'aggressive', 'aggressive', 'aggressive', 'aggressive', 'aggressive', 'aggressive', 'aggressive', 'aggressive']\n",
            "['Punching', 'Kneeing', 'Elbowing', 'Pushing', 'Frontkicking', 'Sidekicking', 'Pulling', 'Headering', 'Slapping', 'Hamering', 'Clapping', 'Jumping', 'Running', 'Seating', 'Handshaking', 'Standing', 'Hugging', 'Walking', 'Bowing', 'Handshaking', 'Clapping', 'Seating', 'Jumping', 'Running', 'Hugging', 'Walking', 'Waving', 'Standing', 'Bowing', 'Punching', 'Kneeing', 'Headering', 'Sidekicking', 'Pushing', 'Frontkicking', 'Slapping', 'Pulling', 'Hamering', 'Elbowing', 'Kneeing', 'Sidekicking', 'Punching', 'Frontkicking', 'Headering', 'Hamering', 'Slapping', 'Pulling', 'Pushing', 'Elbowing', 'Clapping', 'Running', 'Handshaking', 'Jumping', 'Seating', 'Walking', 'Waving', 'Hugging', 'Standing', 'Bowing', 'Clapping', 'Jumping', 'Running', 'Handshaking', 'Seating', 'Walking', 'Hugging', 'Standing', 'Waving', 'Bowing', 'Kneeing', 'Headering', 'Sidekicking', 'Punching', 'Hamering', 'Pulling', 'Frontkicking', 'Pushing', 'Elbowing', 'Slapping', 'Running', 'Clapping', 'Handshaking', 'Jumping', 'Walking', 'Seating', 'Hugging', 'Waving', 'Standing', 'Bowing', 'Kneeing', 'Punching', 'Sidekicking', 'Headering', 'Hamering', 'Slapping', 'Frontkicking', 'Pulling', 'Pushing', 'Elbowing', 'Punching', 'Headering', 'Sidekicking', 'Hamering', 'Kneeing', 'Frontkicking', 'Pulling', 'Slapping', 'Elbowing', 'Pushing', 'Clapping', 'Running', 'Seating', 'Handshaking', 'Hugging', 'Jumping', 'Walking', 'Standing', 'Waving', 'Bowing', 'Running', 'Walking', 'Clapping', 'Handshaking', 'Seating', 'Jumping', 'Hugging', 'Waving', 'Bowing', 'Standing', 'Punching', 'Sidekicking', 'Kneeing', 'Frontkicking', 'Hamering', 'Slapping', 'Headering', 'Elbowing', 'Pushing', 'Pulling', 'Kneeing', 'Punching', 'Sidekicking', 'Pulling', 'Hamering', 'Frontkicking', 'Headering', 'Elbowing', 'Slapping', 'Pushing', 'Running', 'Jumping', 'Seating', 'Clapping', 'Walking', 'Handshaking', 'Standing', 'Hugging', 'Waving', 'Bowing', 'Seating', 'Clapping', 'Running', 'Handshaking', 'Walking', 'Jumping', 'Bowing', 'Standing', 'Waving', 'Hugging', 'Headering', 'Sidekicking', 'Punching', 'Kneeing', 'Hamering', 'Pulling', 'Elbowing', 'Frontkicking', 'Slapping', 'Pushing', 'Running', 'Clapping', 'Handshaking', 'Walking', 'Seating', 'Jumping', 'Bowing', 'Standing', 'Hugging', 'Waving', 'Headering', 'Sidekicking', 'Punching', 'Kneeing', 'Pulling', 'Hamering', 'Frontkicking', 'Elbowing', 'Pushing', 'Slapping']\n",
            "['10', '10', '10', '10', '10', '10', '10', '10', '10', '10', '10', '10', '10', '10', '10', '10', '10', '10', '10', '3', '3', '3', '3', '3', '3', '3', '3', '3', '3', '3', '3', '3', '3', '3', '3', '3', '3', '3', '3', '5', '5', '5', '5', '5', '5', '5', '5', '5', '5', '5', '5', '5', '5', '5', '5', '5', '5', '5', '5', '6', '6', '6', '6', '6', '6', '6', '6', '6', '6', '6', '6', '6', '6', '6', '6', '6', '6', '6', '6', '8', '8', '8', '8', '8', '8', '8', '8', '8', '8', '8', '8', '8', '8', '8', '8', '8', '8', '8', '8', '9', '9', '9', '9', '9', '9', '9', '9', '9', '9', '9', '9', '9', '9', '9', '9', '9', '9', '9', '9', '7', '7', '7', '7', '7', '7', '7', '7', '7', '7', '7', '7', '7', '7', '7', '7', '7', '7', '7', '7', '4', '4', '4', '4', '4', '4', '4', '4', '4', '4', '4', '4', '4', '4', '4', '4', '4', '4', '4', '4', '1', '1', '1', '1', '1', '1', '1', '1', '1', '1', '1', '1', '1', '1', '1', '1', '1', '1', '1', '1', '2', '2', '2', '2', '2', '2', '2', '2', '2', '2', '2', '2', '2', '2', '2', '2', '2', '2', '2', '2']\n"
          ]
        }
      ],
      "source": [
        "# Just needed in case you'd like to append it to an array\n",
        "filenames = []\n",
        "binaryclasses = []\n",
        "actionclasses = []\n",
        "subjectids = []\n",
        "\n",
        "for dirname in os.listdir('/content/gdrive/My Drive/Colab Notebooks/Sensor_Datasets_RNNs/sensordataset'):\n",
        "  if not(dirname.endswith('Store')):\n",
        "    for dir1name in os.listdir('/content/gdrive/My Drive/Colab Notebooks/Sensor_Datasets_RNNs/sensordataset/'+dirname):\n",
        "      for filename in os.listdir('/content/gdrive/My Drive/Colab Notebooks/Sensor_Datasets_RNNs/sensordataset/'+dirname +'/'+dir1name):\n",
        "        if filename.endswith(\"csv\"): \n",
        "        # Your code comes here such as \n",
        "          filenames.append('/content/gdrive/My Drive/Colab Notebooks/Sensor_Datasets_RNNs/sensordataset/'+dirname +'/'+dir1name+'/'+ filename)\n",
        "          binaryclasses.append(dir1name)\n",
        "          subjectids.append(dirname[3:])\n",
        "          actionclasses.append(filename[:-4])\n",
        "\n",
        "print(filenames)\n",
        "print(binaryclasses)\n",
        "print(actionclasses)\n",
        "print(subjectids)"
      ]
    },
    {
      "cell_type": "code",
      "execution_count": 486,
      "metadata": {
        "id": "Oi4VBSDcTHt0"
      },
      "outputs": [],
      "source": [
        "sensordataframes = []\n",
        "\n",
        "\n",
        "for file in filenames:\n",
        "  df = pd.read_csv(file)\n",
        "  df[columns] = df[columns].replace(to_replace = 0,  method='ffill')\n",
        "  sensordataframes.append(df)\n"
      ]
    },
    {
      "cell_type": "code",
      "execution_count": 487,
      "metadata": {
        "id": "DFQ9Ug95JaBd"
      },
      "outputs": [],
      "source": [
        "# speed and acceleration columns in the dataset\n",
        "speed_columns = ['Speed_Head', 'Speed_LWrs', 'Speed_LElb', 'Speed_RWrs', 'Speed_RElb', 'Speed_LAnk', 'Speed_RAnk', 'Speed_LKne', 'Speed_RKne']\n",
        "acc_columns = ['Acc_Head', 'Acc_LWrs', 'Acc_LElb', 'Acc_RWrs', 'Acc_RElb', 'Acc_LAnk', 'Acc_RAnk', 'Acc_LKne', 'Acc_RKne']\n",
        "velocity_columns = ['Velo_Head', 'Velo_LWrs', 'Velo_LElb', 'Velo_RWrs', 'Velo_RElb', 'Velo_LAnk', 'Velo_RAnk', 'Velo_LKne', 'Velo_RKne']\n"
      ]
    },
    {
      "cell_type": "code",
      "execution_count": 488,
      "metadata": {
        "id": "XDexzSLoTCel",
        "colab": {
          "base_uri": "https://localhost:8080/"
        },
        "outputId": "fcf5c69a-660d-4f76-97d1-5ba782cb2170"
      },
      "outputs": [
        {
          "output_type": "execute_result",
          "data": {
            "text/plain": [
              "Index(['Unnamed: 0', 'Time', 'Headx', 'Heady', 'Headz', 'LWrsx', 'LWrsy',\n",
              "       'LWrsz', 'LElbx', 'LElby', 'LElbz', 'RWrsx', 'RWrsy', 'RWrsz', 'RElbx',\n",
              "       'RElby', 'RElbz', 'LAnkx', 'LAnky', 'LAnkz', 'LKnex', 'LKney', 'LKnez',\n",
              "       'RAnkx', 'RAnky', 'RAnkz', 'RKnex', 'RKney', 'RKnez', 'subjectid',\n",
              "       'actiontarget', 'classtarget'],\n",
              "      dtype='object')"
            ]
          },
          "metadata": {},
          "execution_count": 488
        }
      ],
      "source": [
        "# adding target labels to dataframe for subjectid, action and normal/aggressive\n",
        "actions_20_class = ['Punching', 'Kneeing', 'Elbowing', 'Pushing', 'Frontkicking', 'Sidekicking', 'Pulling', 'Headering', 'Slapping', 'Hamering', 'Clapping', 'Jumping', 'Running', 'Seating', 'Handshaking', 'Standing', 'Hugging', 'Walking', 'Bowing', 'Waving']\n",
        "actions_8_class = ['Punching', 'Kneeing', 'Elbowing', 'Frontkicking', 'Clapping', 'Running', 'Seating', 'Walking']\n",
        "actions_aggressive = ['Punching', 'Kneeing', 'Elbowing', 'Pushing', 'Frontkicking', 'Sidekicking', 'Pulling', 'Headering', 'Slapping', 'Hamering']\n",
        "actions_normal = ['Clapping', 'Jumping', 'Running', 'Seating', 'Handshaking', 'Standing', 'Hugging', 'Walking', 'Bowing', 'Waving']\n",
        "actions_16_class = ['Punching', 'Kneeing', 'Elbowing', 'Frontkicking', 'Pulling', 'Headering', 'Clapping', 'Running', 'Seating', 'Walking', 'Bowing', 'Handshaking', 'Slapping','Kneeing','Bowing','Standing']\n",
        "actions_6_class = ['Punching', 'Kneeing', 'Elbowing','Seating', 'Walking','Clapping']\n",
        "\n",
        "# choose the classes to test\n",
        "actionlist = actions_8_class\n",
        "num_classes = len(actionlist)\n",
        "\n",
        "# choose the window size\n",
        "window_size = 250\n",
        "\n",
        "# choose how many timestamps we want to remove from the starting of each dataset\n",
        "n_timestamps_remove = 200\n",
        "\n",
        "# choose what percentage of data want for testing\n",
        "testing_percent = 0.5\n",
        "\n",
        "for i in range (len(sensordataframes)):\n",
        "  sensordataframes[i]['subjectid'] = subjectids[i]\n",
        "  sensordataframes[i]['actiontarget'] = actionclasses[i]\n",
        "\n",
        "  for action in actionlist: \n",
        "    if actionclasses[i] == action: \n",
        "      sensordataframes[i]['actiontarget'] = int(actionlist.index(action))\n",
        "\n",
        "  if binaryclasses[i] == 'aggressive':\n",
        "    sensordataframes[i]['classtarget'] = 1\n",
        "  else:\n",
        "    sensordataframes[i]['classtarget'] = 0\n",
        "  \n",
        "  #sensordataframes[i] = sensordataframes[i].dropna()\n",
        "  \n",
        "sensordataframes[0].columns"
      ]
    },
    {
      "cell_type": "code",
      "source": [
        "# remove the first n timestamps from all dataframes\n",
        "for sensordf in sensordataframes: \n",
        "  sensordf = sensordf.drop(index=df.index[:n_timestamps_remove])"
      ],
      "metadata": {
        "id": "lSM_2PdkXL84"
      },
      "execution_count": 489,
      "outputs": []
    },
    {
      "cell_type": "code",
      "execution_count": 490,
      "metadata": {
        "id": "FGbIFbIQgusI",
        "colab": {
          "base_uri": "https://localhost:8080/"
        },
        "outputId": "d3fb9833-1f2f-4b84-854e-9cff708ca75c"
      },
      "outputs": [
        {
          "output_type": "stream",
          "name": "stdout",
          "text": [
            "      Velo_Head  Velo_LWrs  Velo_LElb   Velo_RWrs   Velo_RElb   Velo_LAnk  \\\n",
            "0           NaN        NaN        NaN         NaN         NaN         NaN   \n",
            "1      0.000000   0.000000   0.000000    0.000000    0.000000    0.000000   \n",
            "2      0.055299   0.000000   0.000000    0.000000    0.000000    0.000000   \n",
            "3      0.000000   0.148674   0.053572    0.000000    0.000000    0.000000   \n",
            "4      0.000000   0.000000   0.000000    0.000000    0.000000    0.165578   \n",
            "...         ...        ...        ...         ...         ...         ...   \n",
            "1854   0.000000   0.000000   0.000000    0.000000    0.000000  187.744919   \n",
            "1855   0.000000   0.000000   0.000000  568.493196  592.363697    0.000000   \n",
            "1856   0.000000   0.000000   0.000000    0.000000    0.000000    0.000000   \n",
            "1857        NaN        NaN        NaN         NaN         NaN         NaN   \n",
            "1858        NaN        NaN        NaN         NaN         NaN         NaN   \n",
            "\n",
            "       Velo_RAnk   Velo_LKne   Velo_RKne  \n",
            "0            NaN         NaN         NaN  \n",
            "1       0.000000    0.000000    0.000000  \n",
            "2       0.000000    0.000000    0.000000  \n",
            "3       0.000000    0.000000    0.000000  \n",
            "4       0.000000    0.277074    0.000000  \n",
            "...          ...         ...         ...  \n",
            "1854    0.000000  246.696578    0.000000  \n",
            "1855    0.000000    0.000000    0.000000  \n",
            "1856  208.728374    0.000000  127.426275  \n",
            "1857         NaN         NaN         NaN  \n",
            "1858         NaN         NaN         NaN  \n",
            "\n",
            "[1859 rows x 9 columns]\n"
          ]
        }
      ],
      "source": [
        "# adding velocity columns to all of the sensordataframes\n",
        "# adding velocity columns to all of the sensordataframes\n",
        "speed_columns = ['Velo_Head', 'Velo_LWrs', 'Velo_LElb', 'Velo_RWrs', 'Velo_RElb', 'Velo_LAnk', 'Velo_RAnk', 'Velo_LKne', 'Velo_RKne']\n",
        "speed_columnswtarget = ['Velo_Head', 'Velo_LWrs', 'Velo_LElb', 'Velo_RWrs', 'Velo_RElb', 'Velo_LAnk', 'Velo_RAnk', 'Velo_LKne', 'Velo_RKne','actiontarget', 'classtarget']\n",
        "# for speed_df in sensordataframes:\n",
        "#   for i in range(0, len(x_columns)):\n",
        "#     xyz = speed_df[[x_columns[i], y_columns[i], z_columns[i]]]\n",
        "#     speed_df['Velo_'+ x_columns[i][:-1]] = np.linalg.norm(xyz.values,axis=1)\n",
        "\n",
        "for speed_df in sensordataframes:\n",
        "  # jj: edit for finding diff.\n",
        "  for j in range(len(columns)):\n",
        "    # speed_df['shift_'+columns[j]] = (speed_df[columns[j]]- speed_df[columns[j]].shift()).fillna(0)\n",
        "    speed_df['diff_'+columns[j]] = speed_df[columns[j]].diff()\n",
        "  \n",
        "  for i in range(0, len(x_columns)):\n",
        "    vec = speed_df[['diff_'+x_columns[i], 'diff_'+y_columns[i], 'diff_'+z_columns[i]]]\n",
        "    speed_df['Velo_'+x_columns[i][:-1]] = np.linalg.norm(vec.values,axis=1)\n",
        "\n",
        "print(sensordataframes[0][speed_columns])\n"
      ]
    },
    {
      "cell_type": "code",
      "source": [
        "# sorting all sensor dataframes into required number of classes (eg. 8, 16, 20)\n",
        "a =[]\n",
        "actiontargets = []\n",
        "classtargets = []\n",
        "subjectids = []\n",
        "for sensordf in sensordataframes:\n",
        "  if type(sensordf['actiontarget'][1]) != str:\n",
        "    a.append(sensordf)\n",
        "    actiontargets.append(sensordf['actiontarget'][1])\n",
        "    classtargets.append(sensordf['classtarget'][1])\n",
        "    subjectids.append(sensordf['subjectid'][1])\n",
        " \n",
        "sensordataframes = a\n",
        "print(len(sensordataframes))\n",
        "print(classtargets)\n",
        "print(subjectids)\n",
        "print(actiontargets)\n",
        "\n"
      ],
      "metadata": {
        "id": "dFYTggz5Cqow",
        "colab": {
          "base_uri": "https://localhost:8080/"
        },
        "outputId": "5798302e-74d7-45ec-e22e-42a64319235e"
      },
      "execution_count": 491,
      "outputs": [
        {
          "output_type": "stream",
          "name": "stdout",
          "text": [
            "80\n",
            "[1, 1, 1, 1, 0, 0, 0, 0, 0, 0, 0, 0, 1, 1, 1, 1, 1, 1, 1, 1, 0, 0, 0, 0, 0, 0, 0, 0, 1, 1, 1, 1, 0, 0, 0, 0, 1, 1, 1, 1, 1, 1, 1, 1, 0, 0, 0, 0, 0, 0, 0, 0, 1, 1, 1, 1, 1, 1, 1, 1, 0, 0, 0, 0, 0, 0, 0, 0, 1, 1, 1, 1, 0, 0, 0, 0, 1, 1, 1, 1]\n",
            "['10', '10', '10', '10', '10', '10', '10', '10', '3', '3', '3', '3', '3', '3', '3', '3', '5', '5', '5', '5', '5', '5', '5', '5', '6', '6', '6', '6', '6', '6', '6', '6', '8', '8', '8', '8', '8', '8', '8', '8', '9', '9', '9', '9', '9', '9', '9', '9', '7', '7', '7', '7', '7', '7', '7', '7', '4', '4', '4', '4', '4', '4', '4', '4', '1', '1', '1', '1', '1', '1', '1', '1', '2', '2', '2', '2', '2', '2', '2', '2']\n",
            "[0, 1, 2, 3, 4, 5, 6, 7, 4, 6, 5, 7, 0, 1, 3, 2, 1, 0, 3, 2, 4, 5, 6, 7, 4, 5, 6, 7, 1, 0, 3, 2, 5, 4, 7, 6, 1, 0, 3, 2, 0, 1, 3, 2, 4, 5, 6, 7, 5, 7, 4, 6, 0, 1, 3, 2, 1, 0, 3, 2, 5, 6, 4, 7, 6, 4, 5, 7, 0, 1, 2, 3, 5, 4, 7, 6, 0, 1, 3, 2]\n"
          ]
        }
      ]
    },
    {
      "cell_type": "code",
      "source": [
        "print(actiontargets)"
      ],
      "metadata": {
        "colab": {
          "base_uri": "https://localhost:8080/"
        },
        "id": "_Y-tKu-EiSNZ",
        "outputId": "e465a6b1-50d6-4fc5-b6b0-431d3b14d106"
      },
      "execution_count": 492,
      "outputs": [
        {
          "output_type": "stream",
          "name": "stdout",
          "text": [
            "[0, 1, 2, 3, 4, 5, 6, 7, 4, 6, 5, 7, 0, 1, 3, 2, 1, 0, 3, 2, 4, 5, 6, 7, 4, 5, 6, 7, 1, 0, 3, 2, 5, 4, 7, 6, 1, 0, 3, 2, 0, 1, 3, 2, 4, 5, 6, 7, 5, 7, 4, 6, 0, 1, 3, 2, 1, 0, 3, 2, 5, 6, 4, 7, 6, 4, 5, 7, 0, 1, 2, 3, 5, 4, 7, 6, 0, 1, 3, 2]\n"
          ]
        }
      ]
    },
    {
      "cell_type": "code",
      "source": [
        "trainingdfs = []\n",
        "traininglabels = []\n",
        "trainingsubjects = []\n",
        "trainingactions = []\n",
        "\n",
        "testingdfs=[]\n",
        "testinglabels=[]\n",
        "testingsubjects = []\n",
        "testingactions = []\n",
        "\n",
        "\n",
        "if scenario == 2:\n",
        "  # scenario 2) Action Imbalance\n",
        "  if aggressive_or_normal == 0: # this means 20% normal in set and 80% aggressive\n",
        "    for i in range(len(sensordataframes)):\n",
        "      if int(subjectids[i]) > 5:\n",
        "        testingdfs.append(sensordataframes[i])\n",
        "        testinglabels.append(classtargets[i])\n",
        "        testingactions.append(actiontargets[i])\n",
        "      else:\n",
        "        if classtargets[i] == 1: \n",
        "          trainingdfs.append(sensordataframes[i])\n",
        "          traininglabels.append(classtargets[i])\n",
        "          trainingactions.append(actiontargets[i])\n",
        "        elif classtargets[i] == 0 and int(actiontargets[i]) == int(testingfile[2]):\n",
        "          trainingdfs.append(sensordataframes[i])\n",
        "          traininglabels.append(classtargets[i])\n",
        "          trainingactions.append(actiontargets[i])\n",
        "    print(\"run 20\")\n",
        "    \n",
        "  elif aggressive_or_normal == 1: # this means 20% aggressive in set and 80% normal\n",
        "      for i in range(len(sensordataframes)):\n",
        "        if int(subjectids[i]) > 5:\n",
        "          testingdfs.append(sensordataframes[i])\n",
        "          testinglabels.append(classtargets[i])\n",
        "          testingactions.append(actiontargets[i])\n",
        "        else:\n",
        "          if classtargets[i] == 0: \n",
        "            trainingdfs.append(sensordataframes[i])\n",
        "            traininglabels.append(classtargets[i])\n",
        "            trainingactions.append(actiontargets[i])\n",
        "          elif classtargets[i] == 1 and int(actiontargets[i]) == int(testingfile[2]):\n",
        "            trainingdfs.append(sensordataframes[i])\n",
        "            traininglabels.append(classtargets[i])\n",
        "            trainingactions.append(actiontargets[i])\n",
        "      print(\"run 21\")\n",
        "\n",
        "\n",
        "elif scenario == 3:\n",
        "  # scenario 3) Subject Imbalance\n",
        "  if aggressive_or_normal == 0: # this means 20% normal in set and 80% aggressive\n",
        "    for i in range(len(sensordataframes)):\n",
        "      if int(subjectids[i]) > 5:\n",
        "        testingdfs.append(sensordataframes[i])\n",
        "        testinglabels.append(classtargets[i])\n",
        "        testingactions.append(actiontargets[i])\n",
        "      else:\n",
        "        if classtargets[i] == 1: \n",
        "          trainingdfs.append(sensordataframes[i])\n",
        "          traininglabels.append(classtargets[i])\n",
        "          trainingactions.append(actiontargets[i])\n",
        "        elif classtargets[i] == 0 and int(subjectids[i]) == subject_to_train:\n",
        "          trainingdfs.append(sensordataframes[i])\n",
        "          traininglabels.append(classtargets[i])\n",
        "          trainingactions.append(actiontargets[i])\n",
        "    print(\"run 30\")\n",
        "    \n",
        "  elif aggressive_or_normal == 1: # this means 20% aggressive in set and 80% normal\n",
        "      for i in range(len(sensordataframes)):\n",
        "        if int(subjectids[i]) > 5:\n",
        "          testingdfs.append(sensordataframes[i])\n",
        "          testinglabels.append(classtargets[i])\n",
        "          testingactions.append(actiontargets[i])\n",
        "        else:\n",
        "          if classtargets[i] == 0: \n",
        "            trainingdfs.append(sensordataframes[i])\n",
        "            traininglabels.append(classtargets[i])\n",
        "            trainingactions.append(actiontargets[i])\n",
        "          elif classtargets[i] == 1 and int(subjectids[i]) == subject_to_train:\n",
        "            trainingdfs.append(sensordataframes[i])\n",
        "            traininglabels.append(classtargets[i])\n",
        "            trainingactions.append(actiontargets[i])\n",
        "      print(\"run 31\")\n",
        "\n",
        "\n",
        "\n",
        "print(traininglabels)\n",
        "print(trainingactions)\n",
        "print(testinglabels)\n",
        "print(testingactions)"
      ],
      "metadata": {
        "colab": {
          "base_uri": "https://localhost:8080/"
        },
        "id": "GpMrgQq-nmU1",
        "outputId": "e535fd34-a06e-4549-b0aa-bb776b50df6b"
      },
      "execution_count": 493,
      "outputs": [
        {
          "output_type": "stream",
          "name": "stdout",
          "text": [
            "run 20\n",
            "[0, 1, 1, 1, 1, 1, 1, 1, 1, 0, 1, 1, 1, 1, 0, 0, 1, 1, 1, 1, 0, 1, 1, 1, 1]\n",
            "[4, 0, 1, 3, 2, 1, 0, 3, 2, 4, 1, 0, 3, 2, 4, 4, 0, 1, 2, 3, 4, 0, 1, 3, 2]\n",
            "[1, 1, 1, 1, 0, 0, 0, 0, 0, 0, 0, 0, 1, 1, 1, 1, 0, 0, 0, 0, 1, 1, 1, 1, 1, 1, 1, 1, 0, 0, 0, 0, 0, 0, 0, 0, 1, 1, 1, 1]\n",
            "[0, 1, 2, 3, 4, 5, 6, 7, 4, 5, 6, 7, 1, 0, 3, 2, 5, 4, 7, 6, 1, 0, 3, 2, 0, 1, 3, 2, 4, 5, 6, 7, 5, 7, 4, 6, 0, 1, 3, 2]\n"
          ]
        }
      ]
    },
    {
      "cell_type": "code",
      "execution_count": 494,
      "metadata": {
        "id": "uEh35rtVEDc0"
      },
      "outputs": [],
      "source": [
        "# create new dataframes containing the rolling means and standard deviations\n",
        "gaussian_velo = ['Velo_Head_avg','Velo_Head_std', 'Velo_LWrs_avg','Velo_LWrs_std', 'Velo_LElb_avg','Velo_LElb_std', \n",
        "                    'Velo_RWrs_avg', 'Velo_RWrs_std','Velo_RElb_avg','Velo_RElb_std', 'Velo_LAnk_avg', 'Velo_LAnk_avg',\n",
        "                    'Velo_RAnk_avg','Velo_RAnk_std', 'Velo_LKne_avg', 'Velo_LKne_std','Velo_RKne_avg','Velo_RKne_std']\n",
        "\n",
        "# function for creating new dataframe that contains means and standard deviation from sensordataframes\n",
        "# period means window length ( e.g. 250 for a window length of 250 timestamps)\n",
        "\n",
        "def extract_gaussian_windowing(sensordf, period): \n",
        "  windowdf = pd.DataFrame(columns=gaussian_velo)\n",
        "  for column in velocity_columns: \n",
        "    # using the mean and variance for the windowing approach\n",
        "    windowdf[column+'_avg'] = sensordf[column].groupby(np.arange(len(sensordf))//period).mean()\n",
        "    windowdf[column+'_std'] = sensordf[column].groupby(np.arange(len(sensordf))//period).var()\n",
        "  windowdf.drop(columns=['Velo_LAnk_avg'])\n",
        "  return windowdf.dropna() \n",
        "\n",
        "\n"
      ]
    },
    {
      "cell_type": "code",
      "source": [
        "# creating a list to hold all the windowing dataframes\n",
        "gaussian_win_dfs = []\n",
        "\n",
        "testing_gaussian_dfs = []\n",
        "training_gaussian_dfs = []\n",
        "\n",
        "# creating a list to hold the lengths of the dataframes after they have been windowed and the mean and std of each window has been calcualted\n",
        "training_gaussian_df_lens = []\n",
        "testing_gaussian_df_lens = []\n",
        "\n",
        "# creating a series of dataframes with the window size\n",
        "\n",
        "for df in trainingdfs: \n",
        "  gaussian = extract_gaussian_windowing(df, window_size)\n",
        "  training_gaussian_dfs.append(gaussian)\n",
        "  training_gaussian_df_lens.append(len(gaussian))\n",
        "\n",
        "for df in testingdfs: \n",
        "  gaussian = extract_gaussian_windowing(df, window_size)\n",
        "  testing_gaussian_dfs.append(gaussian)\n",
        "  testing_gaussian_df_lens.append(len(gaussian))\n",
        "\n",
        "pd.Series(testing_gaussian_df_lens).describe()\n",
        "pd.Series(training_gaussian_df_lens).describe()"
      ],
      "metadata": {
        "id": "vGkXqlYq4CR1",
        "colab": {
          "base_uri": "https://localhost:8080/"
        },
        "outputId": "9dcfd22c-6434-4160-bed5-311d4c218c4d"
      },
      "execution_count": 495,
      "outputs": [
        {
          "output_type": "execute_result",
          "data": {
            "text/plain": [
              "count    25.000000\n",
              "mean     12.640000\n",
              "std       3.935734\n",
              "min       7.000000\n",
              "25%       9.000000\n",
              "50%      13.000000\n",
              "75%      15.000000\n",
              "max      23.000000\n",
              "dtype: float64"
            ]
          },
          "metadata": {},
          "execution_count": 495
        }
      ]
    },
    {
      "cell_type": "code",
      "source": [
        "\n",
        "# creating sequences from the windowing dataframes to feed into the RNN\n",
        "training_sequences = list()\n",
        "testing_sequences = list()\n",
        "\n",
        "\n",
        "for i in range(len(testing_gaussian_dfs)):\n",
        "  values = testing_gaussian_dfs[i][gaussian_velo].values\n",
        "  testing_sequences.append(values)\n",
        "\n",
        "for i in range(len(training_gaussian_dfs)):\n",
        "  values = training_gaussian_dfs[i][gaussian_velo].values\n",
        "  training_sequences.append(values)\n",
        "\n",
        "\n",
        "features= 20\n",
        "\n"
      ],
      "metadata": {
        "id": "6v_-XBMZ52Ka"
      },
      "execution_count": 496,
      "outputs": []
    },
    {
      "cell_type": "code",
      "source": [
        "# padding each sequence with a certain value in order to make them all the same length because RNN does not accept variable sequence lengths\n",
        "to_pad = 200\n",
        "new_seq = []\n",
        "for one_seq in training_sequences:\n",
        "    len_one_seq = len(one_seq)\n",
        "    # -1 is the special value that sequences are padded with that the RNN can mask\n",
        "    last_val = -1\n",
        "    n = to_pad - len_one_seq\n",
        "   \n",
        "    to_concat = an_array = np.full((n, len(one_seq[0])), -1)\n",
        "    new_one_seq = np.concatenate([one_seq, to_concat])\n",
        "    new_seq.append(new_one_seq)\n",
        "\n",
        "\n",
        "# truncate each sequence to the desired length (e.g how many windows in each training sequence?)\n",
        "from keras.preprocessing import sequence\n",
        "seq_len = 30\n",
        "final_seq=sequence.pad_sequences(new_seq, maxlen=seq_len, padding='post', dtype='float', truncating='post')\n",
        "\n",
        "training_sequences = np.array(final_seq)\n",
        "print(training_sequences[0])\n",
        "\n"
      ],
      "metadata": {
        "id": "MlzKhNjV8pQk",
        "colab": {
          "base_uri": "https://localhost:8080/"
        },
        "outputId": "4f2e5684-7acf-4c10-b42f-6073d7d734ed"
      },
      "execution_count": 497,
      "outputs": [
        {
          "output_type": "stream",
          "name": "stdout",
          "text": [
            "[[ 2.66961303e-01  7.15126791e+00  1.64418941e+00  1.77755802e+02\n",
            "   2.85040130e+00  5.30963770e+02  1.83976649e+00  2.33123120e+02\n",
            "   3.40103622e+00  5.26805096e+02  9.01453341e-02  9.01453341e-02\n",
            "   9.01453341e-02  9.01453341e-02  9.45890218e-02  5.07565763e-01\n",
            "   2.56535050e-02  9.72542146e-03  3.06195270e-02  2.35650996e-02]\n",
            " [ 5.32455646e-02  5.23860982e-02  6.21506745e-01  1.15787768e+01\n",
            "   1.32136019e+00  4.62585750e+01  7.15344297e-01  1.21595898e+01\n",
            "   1.27375299e+00  3.69666996e+01  3.16498628e-02  3.16498628e-02\n",
            "   3.16498628e-02  3.16498628e-02  5.42182770e-02  3.14291912e-02\n",
            "   1.82162208e-02  2.08774428e-03  1.74485253e-02  1.62275599e-03]\n",
            " [ 1.20068285e-01  3.67952497e-01  5.33134865e-01  6.68427213e+00\n",
            "   1.10995144e+00  3.13796270e+01  6.39841165e-01  9.37590915e+00\n",
            "   1.25759549e+00  4.12206238e+01  3.02228006e-02  3.02228006e-02\n",
            "   3.02228006e-02  3.02228006e-02  5.64806380e-02  1.06328881e-01\n",
            "   1.67590328e-02  1.54589440e-03  1.96161470e-02  4.64247267e-03]\n",
            " [ 5.97104476e-02  8.51608257e-02  4.88074564e-01  4.40681373e+00\n",
            "   1.34378844e+00  4.62585171e+01  5.56427202e-01  5.07519482e+00\n",
            "   1.18937489e+00  3.13519533e+01  2.46246878e-02  2.46246878e-02\n",
            "   2.46246878e-02  2.46246878e-02  2.65285852e-02  4.63534756e-03\n",
            "   1.10578569e-02  1.10164237e-03  1.64355571e-02  1.44428159e-03]\n",
            " [ 8.76632214e-02  2.27625731e-01  5.52141084e-01  8.52974994e+00\n",
            "   1.28637330e+00  5.22937410e+01  5.95557932e-01  8.81754897e+00\n",
            "   1.11639761e+00  3.43466366e+01  3.16567264e-02  3.16567264e-02\n",
            "   3.16567264e-02  3.16567264e-02  3.57251585e-02  1.78375914e-02\n",
            "   1.60934221e-02  2.11858008e-03  2.03808403e-02  2.19114593e-03]\n",
            " [ 8.31596296e-02  1.36919594e-01  5.69346932e-01  6.54164354e+00\n",
            "   1.08633253e+00  2.72385097e+01  5.47790390e-01  6.17694655e+00\n",
            "   9.73953332e-01  2.30250745e+01  2.41488556e-02  2.41488556e-02\n",
            "   2.41488556e-02  2.41488556e-02  2.52798230e-02  5.11899855e-03\n",
            "   1.44536191e-02  1.29332218e-03  1.87647014e-02  1.72352408e-03]\n",
            " [ 2.52419662e-01  2.09216197e+00  6.43425604e-01  9.48060084e+00\n",
            "   1.19547540e+00  3.83728685e+01  7.38323640e-01  1.01152477e+01\n",
            "   1.26784746e+00  3.96095108e+01  4.08587614e-02  4.08587614e-02\n",
            "   4.08587614e-02  4.08587614e-02  4.51504719e-02  4.03661153e-02\n",
            "   2.53658800e-02  4.34401218e-03  1.94342415e-02  2.81012275e-03]\n",
            " [ 1.30231979e-01  3.20206044e-01  5.41192917e-01  4.59683930e+00\n",
            "   1.15448397e+00  2.69821429e+01  4.67183078e-01  2.69132533e+00\n",
            "   9.59595965e-01  2.04995377e+01  3.60669054e-02  3.60669054e-02\n",
            "   3.60669054e-02  3.60669054e-02  3.32878403e-02  1.33410278e-02\n",
            "   2.71802564e-02  4.27656794e-03  1.62398034e-02  1.36225380e-03]\n",
            " [ 1.95134436e-01  5.47990831e-01  4.11456892e-01  3.20214536e+00\n",
            "   9.10431692e-01  1.83698087e+01  5.23886517e-01  5.73174840e+00\n",
            "   1.08250219e+00  2.40789301e+01  3.71138812e-02  3.71138812e-02\n",
            "   3.71138812e-02  3.71138812e-02  4.89590533e-02  2.08948103e-02\n",
            "   2.27845470e-02  3.53286387e-03  1.95027948e-02  2.30427409e-03]\n",
            " [ 3.22849987e-01  3.26172005e+00  4.30497812e-01  2.74531555e+00\n",
            "   9.35117498e-01  1.67973183e+01  4.72270452e-01  3.16213887e+00\n",
            "   1.02505160e+00  1.77401890e+01  5.18894353e-02  5.18894353e-02\n",
            "   5.18894353e-02  5.18894353e-02  4.13873955e-02  2.49296782e-02\n",
            "   2.50426860e-02  4.69753803e-03  2.03751909e-02  4.05576265e-03]\n",
            " [ 2.40991347e-01  1.56142565e+00  5.80317327e-01  6.44640344e+00\n",
            "   1.45302525e+00  6.03647109e+01  5.71277417e-01  5.75231429e+00\n",
            "   1.21789376e+00  3.47234294e+01  8.55363791e-02  8.55363791e-02\n",
            "   8.55363791e-02  8.55363791e-02  7.67452143e-02  8.14138234e-02\n",
            "   3.79794369e-02  2.57191550e-02  1.95432346e-02  3.97689757e-03]\n",
            " [ 5.62470293e-01  1.25630699e+01  4.87349340e-01  4.87157131e+00\n",
            "   1.20627573e+00  4.21261966e+01  6.12485127e-01  7.76753832e+00\n",
            "   1.42569282e+00  4.80181473e+01  4.52236666e-02  4.52236666e-02\n",
            "   4.52236666e-02  4.52236666e-02  3.69447770e-02  1.79297424e-02\n",
            "   2.07069982e-02  2.75961468e-03  1.53880720e-02  1.43942896e-03]\n",
            " [ 1.61556743e-01  6.77952461e-01  5.38072387e-01  5.21610197e+00\n",
            "   1.32411470e+00  3.54270276e+01  6.36904884e-01  6.91640266e+00\n",
            "   1.29996975e+00  3.29303652e+01  7.88747635e-02  7.88747635e-02\n",
            "   7.88747635e-02  7.88747635e-02  3.43311564e-02  2.11864856e-02\n",
            "   2.08483508e-02  4.32638380e-03  1.72132677e-02  1.86532070e-03]\n",
            " [ 6.49141552e-02  9.11492213e-02  4.08345790e-01  3.25976031e+00\n",
            "   1.02385109e+00  3.10266497e+01  4.60362383e-01  3.91565005e+00\n",
            "   9.60433245e-01  2.35775376e+01  3.78245920e-02  3.78245920e-02\n",
            "   3.78245920e-02  3.78245920e-02  2.80939823e-02  1.52626829e-02\n",
            "   1.93843873e-02  2.91106178e-03  2.65431929e-02  3.71121979e-03]\n",
            " [ 9.28712607e-02  1.08171234e-01  3.68663660e-01  2.43115280e+00\n",
            "   1.24058288e+00  2.03801244e+01  3.61359118e-01  1.93951669e+00\n",
            "   9.87790178e-01  9.64894368e+00  5.12525323e-02  5.12525323e-02\n",
            "   5.12525323e-02  5.12525323e-02  2.99694977e-02  6.61740170e-03\n",
            "   2.22478799e-02  4.28091177e-03  2.44462676e-02  3.53969833e-03]\n",
            " [-1.00000000e+00 -1.00000000e+00 -1.00000000e+00 -1.00000000e+00\n",
            "  -1.00000000e+00 -1.00000000e+00 -1.00000000e+00 -1.00000000e+00\n",
            "  -1.00000000e+00 -1.00000000e+00 -1.00000000e+00 -1.00000000e+00\n",
            "  -1.00000000e+00 -1.00000000e+00 -1.00000000e+00 -1.00000000e+00\n",
            "  -1.00000000e+00 -1.00000000e+00 -1.00000000e+00 -1.00000000e+00]\n",
            " [-1.00000000e+00 -1.00000000e+00 -1.00000000e+00 -1.00000000e+00\n",
            "  -1.00000000e+00 -1.00000000e+00 -1.00000000e+00 -1.00000000e+00\n",
            "  -1.00000000e+00 -1.00000000e+00 -1.00000000e+00 -1.00000000e+00\n",
            "  -1.00000000e+00 -1.00000000e+00 -1.00000000e+00 -1.00000000e+00\n",
            "  -1.00000000e+00 -1.00000000e+00 -1.00000000e+00 -1.00000000e+00]\n",
            " [-1.00000000e+00 -1.00000000e+00 -1.00000000e+00 -1.00000000e+00\n",
            "  -1.00000000e+00 -1.00000000e+00 -1.00000000e+00 -1.00000000e+00\n",
            "  -1.00000000e+00 -1.00000000e+00 -1.00000000e+00 -1.00000000e+00\n",
            "  -1.00000000e+00 -1.00000000e+00 -1.00000000e+00 -1.00000000e+00\n",
            "  -1.00000000e+00 -1.00000000e+00 -1.00000000e+00 -1.00000000e+00]\n",
            " [-1.00000000e+00 -1.00000000e+00 -1.00000000e+00 -1.00000000e+00\n",
            "  -1.00000000e+00 -1.00000000e+00 -1.00000000e+00 -1.00000000e+00\n",
            "  -1.00000000e+00 -1.00000000e+00 -1.00000000e+00 -1.00000000e+00\n",
            "  -1.00000000e+00 -1.00000000e+00 -1.00000000e+00 -1.00000000e+00\n",
            "  -1.00000000e+00 -1.00000000e+00 -1.00000000e+00 -1.00000000e+00]\n",
            " [-1.00000000e+00 -1.00000000e+00 -1.00000000e+00 -1.00000000e+00\n",
            "  -1.00000000e+00 -1.00000000e+00 -1.00000000e+00 -1.00000000e+00\n",
            "  -1.00000000e+00 -1.00000000e+00 -1.00000000e+00 -1.00000000e+00\n",
            "  -1.00000000e+00 -1.00000000e+00 -1.00000000e+00 -1.00000000e+00\n",
            "  -1.00000000e+00 -1.00000000e+00 -1.00000000e+00 -1.00000000e+00]\n",
            " [-1.00000000e+00 -1.00000000e+00 -1.00000000e+00 -1.00000000e+00\n",
            "  -1.00000000e+00 -1.00000000e+00 -1.00000000e+00 -1.00000000e+00\n",
            "  -1.00000000e+00 -1.00000000e+00 -1.00000000e+00 -1.00000000e+00\n",
            "  -1.00000000e+00 -1.00000000e+00 -1.00000000e+00 -1.00000000e+00\n",
            "  -1.00000000e+00 -1.00000000e+00 -1.00000000e+00 -1.00000000e+00]\n",
            " [-1.00000000e+00 -1.00000000e+00 -1.00000000e+00 -1.00000000e+00\n",
            "  -1.00000000e+00 -1.00000000e+00 -1.00000000e+00 -1.00000000e+00\n",
            "  -1.00000000e+00 -1.00000000e+00 -1.00000000e+00 -1.00000000e+00\n",
            "  -1.00000000e+00 -1.00000000e+00 -1.00000000e+00 -1.00000000e+00\n",
            "  -1.00000000e+00 -1.00000000e+00 -1.00000000e+00 -1.00000000e+00]\n",
            " [-1.00000000e+00 -1.00000000e+00 -1.00000000e+00 -1.00000000e+00\n",
            "  -1.00000000e+00 -1.00000000e+00 -1.00000000e+00 -1.00000000e+00\n",
            "  -1.00000000e+00 -1.00000000e+00 -1.00000000e+00 -1.00000000e+00\n",
            "  -1.00000000e+00 -1.00000000e+00 -1.00000000e+00 -1.00000000e+00\n",
            "  -1.00000000e+00 -1.00000000e+00 -1.00000000e+00 -1.00000000e+00]\n",
            " [-1.00000000e+00 -1.00000000e+00 -1.00000000e+00 -1.00000000e+00\n",
            "  -1.00000000e+00 -1.00000000e+00 -1.00000000e+00 -1.00000000e+00\n",
            "  -1.00000000e+00 -1.00000000e+00 -1.00000000e+00 -1.00000000e+00\n",
            "  -1.00000000e+00 -1.00000000e+00 -1.00000000e+00 -1.00000000e+00\n",
            "  -1.00000000e+00 -1.00000000e+00 -1.00000000e+00 -1.00000000e+00]\n",
            " [-1.00000000e+00 -1.00000000e+00 -1.00000000e+00 -1.00000000e+00\n",
            "  -1.00000000e+00 -1.00000000e+00 -1.00000000e+00 -1.00000000e+00\n",
            "  -1.00000000e+00 -1.00000000e+00 -1.00000000e+00 -1.00000000e+00\n",
            "  -1.00000000e+00 -1.00000000e+00 -1.00000000e+00 -1.00000000e+00\n",
            "  -1.00000000e+00 -1.00000000e+00 -1.00000000e+00 -1.00000000e+00]\n",
            " [-1.00000000e+00 -1.00000000e+00 -1.00000000e+00 -1.00000000e+00\n",
            "  -1.00000000e+00 -1.00000000e+00 -1.00000000e+00 -1.00000000e+00\n",
            "  -1.00000000e+00 -1.00000000e+00 -1.00000000e+00 -1.00000000e+00\n",
            "  -1.00000000e+00 -1.00000000e+00 -1.00000000e+00 -1.00000000e+00\n",
            "  -1.00000000e+00 -1.00000000e+00 -1.00000000e+00 -1.00000000e+00]\n",
            " [-1.00000000e+00 -1.00000000e+00 -1.00000000e+00 -1.00000000e+00\n",
            "  -1.00000000e+00 -1.00000000e+00 -1.00000000e+00 -1.00000000e+00\n",
            "  -1.00000000e+00 -1.00000000e+00 -1.00000000e+00 -1.00000000e+00\n",
            "  -1.00000000e+00 -1.00000000e+00 -1.00000000e+00 -1.00000000e+00\n",
            "  -1.00000000e+00 -1.00000000e+00 -1.00000000e+00 -1.00000000e+00]\n",
            " [-1.00000000e+00 -1.00000000e+00 -1.00000000e+00 -1.00000000e+00\n",
            "  -1.00000000e+00 -1.00000000e+00 -1.00000000e+00 -1.00000000e+00\n",
            "  -1.00000000e+00 -1.00000000e+00 -1.00000000e+00 -1.00000000e+00\n",
            "  -1.00000000e+00 -1.00000000e+00 -1.00000000e+00 -1.00000000e+00\n",
            "  -1.00000000e+00 -1.00000000e+00 -1.00000000e+00 -1.00000000e+00]\n",
            " [-1.00000000e+00 -1.00000000e+00 -1.00000000e+00 -1.00000000e+00\n",
            "  -1.00000000e+00 -1.00000000e+00 -1.00000000e+00 -1.00000000e+00\n",
            "  -1.00000000e+00 -1.00000000e+00 -1.00000000e+00 -1.00000000e+00\n",
            "  -1.00000000e+00 -1.00000000e+00 -1.00000000e+00 -1.00000000e+00\n",
            "  -1.00000000e+00 -1.00000000e+00 -1.00000000e+00 -1.00000000e+00]\n",
            " [-1.00000000e+00 -1.00000000e+00 -1.00000000e+00 -1.00000000e+00\n",
            "  -1.00000000e+00 -1.00000000e+00 -1.00000000e+00 -1.00000000e+00\n",
            "  -1.00000000e+00 -1.00000000e+00 -1.00000000e+00 -1.00000000e+00\n",
            "  -1.00000000e+00 -1.00000000e+00 -1.00000000e+00 -1.00000000e+00\n",
            "  -1.00000000e+00 -1.00000000e+00 -1.00000000e+00 -1.00000000e+00]]\n"
          ]
        }
      ]
    },
    {
      "cell_type": "code",
      "source": [
        "# padding each sequence with a certain value in order to make them all the same length because RNN does not accept variable sequence lengths\n",
        "to_pad = 200\n",
        "new_seq = []\n",
        "for one_seq in testing_sequences:\n",
        "    len_one_seq = len(one_seq)\n",
        "    # -1 is the special value that sequences are padded with that the RNN can mask\n",
        "    last_val = -1\n",
        "    n = to_pad - len_one_seq\n",
        "   \n",
        "    to_concat = an_array = np.full((n, len(one_seq[0])), -1)\n",
        "    new_one_seq = np.concatenate([one_seq, to_concat])\n",
        "    new_seq.append(new_one_seq)\n",
        "\n",
        "\n",
        "# truncate each sequence to the desired length (e.g how many windows in each training sequence?)\n",
        "from keras.preprocessing import sequence\n",
        "seq_len = 30\n",
        "final_seq=sequence.pad_sequences(new_seq, maxlen=seq_len, padding='post', dtype='float', truncating='post')\n",
        "\n",
        "testing_sequences = np.array(final_seq)"
      ],
      "metadata": {
        "id": "XaPRY6PyYxsa"
      },
      "execution_count": 498,
      "outputs": []
    },
    {
      "cell_type": "code",
      "source": [
        "x_train = np.array(training_sequences)\n",
        "y_train = np.array(traininglabels)\n",
        "x_test = np.array(testing_sequences)\n",
        "y_test = np.array(testinglabels)"
      ],
      "metadata": {
        "id": "NpW6UPXPZPcn"
      },
      "execution_count": 499,
      "outputs": []
    },
    {
      "cell_type": "code",
      "source": [
        "# model constants\n",
        "BATCH_SIZE = 100\n",
        "EPOCHS = 10"
      ],
      "metadata": {
        "id": "uZw44YiM9LK3"
      },
      "execution_count": 500,
      "outputs": []
    },
    {
      "cell_type": "code",
      "source": [
        "# building the rnn model (adding layers)\n",
        "\n",
        "accuracies = []\n",
        "for _ in range (10):\n",
        "  model = Sequential()\n",
        "  # add masking layer to the RNN to avoid the padded values in series since they are of variable length\n",
        "  model.add(tf.keras.layers.Masking(mask_value=-1, input_shape=(seq_len, features)))\n",
        "  model.add(LSTM(128, input_shape=(x_train.shape[1:]), return_sequences=True))\n",
        "\n",
        "  model.add(Dropout(0.2))\n",
        "  model.add(BatchNormalization())  \n",
        "\n",
        "  model.add(LSTM(128, return_sequences=True))\n",
        "  model.add(Dropout(0.1))\n",
        "  model.add(BatchNormalization())\n",
        "\n",
        "  model.add(LSTM(128))\n",
        "  model.add(Dropout(0.2))\n",
        "  model.add(BatchNormalization())\n",
        "\n",
        "  model.add(Dense(32, activation='relu'))\n",
        "  model.add(Dropout(0.2))\n",
        "\n",
        "  # last layer has 2 nodes due to there being binary classification\n",
        "  model.add(Dense(2, activation='softmax'))\n",
        "\n",
        "  opt = tf.keras.optimizers.Adam(learning_rate=0.001, decay=1e-6)\n",
        "    \n",
        "  model.compile(\n",
        "    loss='sparse_categorical_crossentropy',\n",
        "    optimizer=opt,\n",
        "    metrics=['accuracy'])\n",
        "\n",
        "\n",
        "  # training the model\n",
        "  model.fit(x_train, y_train, epochs=EPOCHS, batch_size=BATCH_SIZE, validation_data=(x_test,y_test))\n",
        "  result = model.evaluate(x_test,y_test)\n",
        "  accuracies.append(result[1])\n",
        "\n",
        "mean_accuracy = sum(accuracies)/len(accuracies)\n",
        "print('mean accuracy: ' + str(mean_accuracy))\n",
        "print('standard deviation:' + str(np.std(accuracies)))\n",
        "\n",
        "\n"
      ],
      "metadata": {
        "id": "WwAiNiHM9TfL",
        "colab": {
          "base_uri": "https://localhost:8080/"
        },
        "outputId": "e3e70a9c-ced1-44cd-935c-a3c58fc5daab"
      },
      "execution_count": 501,
      "outputs": [
        {
          "output_type": "stream",
          "name": "stdout",
          "text": [
            "Epoch 1/10\n",
            "1/1 [==============================] - 20s 20s/step - loss: 1.3192 - accuracy: 0.3200 - val_loss: 0.6846 - val_accuracy: 0.5250\n",
            "Epoch 2/10\n",
            "1/1 [==============================] - 0s 183ms/step - loss: 0.5371 - accuracy: 0.7600 - val_loss: 0.6717 - val_accuracy: 0.6000\n",
            "Epoch 3/10\n",
            "1/1 [==============================] - 0s 194ms/step - loss: 0.1516 - accuracy: 1.0000 - val_loss: 0.6621 - val_accuracy: 0.6250\n",
            "Epoch 4/10\n",
            "1/1 [==============================] - 0s 178ms/step - loss: 0.2342 - accuracy: 0.8800 - val_loss: 0.6549 - val_accuracy: 0.6250\n",
            "Epoch 5/10\n",
            "1/1 [==============================] - 0s 168ms/step - loss: 0.1580 - accuracy: 0.9200 - val_loss: 0.6499 - val_accuracy: 0.6250\n",
            "Epoch 6/10\n",
            "1/1 [==============================] - 0s 170ms/step - loss: 0.1700 - accuracy: 0.9200 - val_loss: 0.6470 - val_accuracy: 0.6250\n",
            "Epoch 7/10\n",
            "1/1 [==============================] - 0s 168ms/step - loss: 0.0727 - accuracy: 0.9600 - val_loss: 0.6443 - val_accuracy: 0.6250\n",
            "Epoch 8/10\n",
            "1/1 [==============================] - 0s 175ms/step - loss: 0.0101 - accuracy: 1.0000 - val_loss: 0.6427 - val_accuracy: 0.6250\n",
            "Epoch 9/10\n",
            "1/1 [==============================] - 0s 169ms/step - loss: 0.0263 - accuracy: 1.0000 - val_loss: 0.6429 - val_accuracy: 0.6250\n",
            "Epoch 10/10\n",
            "1/1 [==============================] - 0s 168ms/step - loss: 0.0118 - accuracy: 1.0000 - val_loss: 0.6439 - val_accuracy: 0.6250\n",
            "2/2 [==============================] - 0s 25ms/step - loss: 0.6439 - accuracy: 0.6250\n",
            "Epoch 1/10\n",
            "1/1 [==============================] - 20s 20s/step - loss: 0.9712 - accuracy: 0.6000 - val_loss: 0.6735 - val_accuracy: 0.6250\n",
            "Epoch 2/10\n",
            "1/1 [==============================] - 0s 182ms/step - loss: 0.2490 - accuracy: 1.0000 - val_loss: 0.6669 - val_accuracy: 0.6500\n",
            "Epoch 3/10\n",
            "1/1 [==============================] - 0s 182ms/step - loss: 0.1091 - accuracy: 1.0000 - val_loss: 0.6606 - val_accuracy: 0.6500\n",
            "Epoch 4/10\n",
            "1/1 [==============================] - 0s 181ms/step - loss: 0.0732 - accuracy: 1.0000 - val_loss: 0.6569 - val_accuracy: 0.6500\n",
            "Epoch 5/10\n",
            "1/1 [==============================] - 0s 174ms/step - loss: 0.0561 - accuracy: 1.0000 - val_loss: 0.6539 - val_accuracy: 0.6500\n",
            "Epoch 6/10\n",
            "1/1 [==============================] - 0s 183ms/step - loss: 0.0390 - accuracy: 1.0000 - val_loss: 0.6516 - val_accuracy: 0.6500\n",
            "Epoch 7/10\n",
            "1/1 [==============================] - 0s 175ms/step - loss: 0.0295 - accuracy: 1.0000 - val_loss: 0.6505 - val_accuracy: 0.6500\n",
            "Epoch 8/10\n",
            "1/1 [==============================] - 0s 173ms/step - loss: 0.0631 - accuracy: 1.0000 - val_loss: 0.6510 - val_accuracy: 0.6500\n",
            "Epoch 9/10\n",
            "1/1 [==============================] - 0s 173ms/step - loss: 0.0417 - accuracy: 1.0000 - val_loss: 0.6536 - val_accuracy: 0.6500\n",
            "Epoch 10/10\n",
            "1/1 [==============================] - 0s 178ms/step - loss: 0.0370 - accuracy: 1.0000 - val_loss: 0.6570 - val_accuracy: 0.6500\n",
            "2/2 [==============================] - 0s 20ms/step - loss: 0.6570 - accuracy: 0.6500\n",
            "Epoch 1/10\n",
            "1/1 [==============================] - 20s 20s/step - loss: 1.0643 - accuracy: 0.4000 - val_loss: 0.6880 - val_accuracy: 0.5000\n",
            "Epoch 2/10\n",
            "1/1 [==============================] - 0s 179ms/step - loss: 0.5444 - accuracy: 0.8000 - val_loss: 0.6824 - val_accuracy: 0.5000\n",
            "Epoch 3/10\n",
            "1/1 [==============================] - 0s 176ms/step - loss: 0.2213 - accuracy: 0.9200 - val_loss: 0.6782 - val_accuracy: 0.5250\n",
            "Epoch 4/10\n",
            "1/1 [==============================] - 0s 167ms/step - loss: 0.1349 - accuracy: 0.9600 - val_loss: 0.6739 - val_accuracy: 0.5750\n",
            "Epoch 5/10\n",
            "1/1 [==============================] - 0s 170ms/step - loss: 0.0512 - accuracy: 1.0000 - val_loss: 0.6705 - val_accuracy: 0.5750\n",
            "Epoch 6/10\n",
            "1/1 [==============================] - 0s 173ms/step - loss: 0.0938 - accuracy: 0.9200 - val_loss: 0.6691 - val_accuracy: 0.5750\n",
            "Epoch 7/10\n",
            "1/1 [==============================] - 0s 181ms/step - loss: 0.1434 - accuracy: 0.9600 - val_loss: 0.6706 - val_accuracy: 0.6000\n",
            "Epoch 8/10\n",
            "1/1 [==============================] - 0s 177ms/step - loss: 0.0165 - accuracy: 1.0000 - val_loss: 0.6721 - val_accuracy: 0.6000\n",
            "Epoch 9/10\n",
            "1/1 [==============================] - 0s 176ms/step - loss: 0.0176 - accuracy: 1.0000 - val_loss: 0.6757 - val_accuracy: 0.6000\n",
            "Epoch 10/10\n",
            "1/1 [==============================] - 0s 168ms/step - loss: 0.0723 - accuracy: 1.0000 - val_loss: 0.6770 - val_accuracy: 0.6000\n",
            "2/2 [==============================] - 0s 21ms/step - loss: 0.6770 - accuracy: 0.6000\n",
            "Epoch 1/10\n",
            "1/1 [==============================] - 20s 20s/step - loss: 0.3777 - accuracy: 0.8400 - val_loss: 0.6998 - val_accuracy: 0.4250\n",
            "Epoch 2/10\n",
            "1/1 [==============================] - 0s 175ms/step - loss: 0.3253 - accuracy: 0.8400 - val_loss: 0.6935 - val_accuracy: 0.5500\n",
            "Epoch 3/10\n",
            "1/1 [==============================] - 0s 177ms/step - loss: 0.1721 - accuracy: 0.9600 - val_loss: 0.6935 - val_accuracy: 0.5750\n",
            "Epoch 4/10\n",
            "1/1 [==============================] - 0s 188ms/step - loss: 0.0696 - accuracy: 1.0000 - val_loss: 0.6931 - val_accuracy: 0.5750\n",
            "Epoch 5/10\n",
            "1/1 [==============================] - 0s 176ms/step - loss: 0.0709 - accuracy: 1.0000 - val_loss: 0.6925 - val_accuracy: 0.5750\n",
            "Epoch 6/10\n",
            "1/1 [==============================] - 0s 176ms/step - loss: 0.0367 - accuracy: 1.0000 - val_loss: 0.6929 - val_accuracy: 0.5750\n",
            "Epoch 7/10\n",
            "1/1 [==============================] - 0s 166ms/step - loss: 0.0312 - accuracy: 1.0000 - val_loss: 0.6927 - val_accuracy: 0.6000\n",
            "Epoch 8/10\n",
            "1/1 [==============================] - 0s 174ms/step - loss: 0.0208 - accuracy: 1.0000 - val_loss: 0.6929 - val_accuracy: 0.6000\n",
            "Epoch 9/10\n",
            "1/1 [==============================] - 0s 165ms/step - loss: 0.0255 - accuracy: 1.0000 - val_loss: 0.6907 - val_accuracy: 0.6000\n",
            "Epoch 10/10\n",
            "1/1 [==============================] - 0s 173ms/step - loss: 0.0111 - accuracy: 1.0000 - val_loss: 0.6893 - val_accuracy: 0.6000\n",
            "2/2 [==============================] - 0s 21ms/step - loss: 0.6893 - accuracy: 0.6000\n",
            "Epoch 1/10\n",
            "1/1 [==============================] - 21s 21s/step - loss: 1.0148 - accuracy: 0.6400 - val_loss: 0.6904 - val_accuracy: 0.5000\n",
            "Epoch 2/10\n",
            "1/1 [==============================] - 0s 182ms/step - loss: 0.2148 - accuracy: 0.9200 - val_loss: 0.6872 - val_accuracy: 0.5750\n",
            "Epoch 3/10\n",
            "1/1 [==============================] - 0s 175ms/step - loss: 0.2029 - accuracy: 0.8800 - val_loss: 0.6859 - val_accuracy: 0.5750\n",
            "Epoch 4/10\n",
            "1/1 [==============================] - 0s 170ms/step - loss: 0.0498 - accuracy: 1.0000 - val_loss: 0.6864 - val_accuracy: 0.6250\n",
            "Epoch 5/10\n",
            "1/1 [==============================] - 0s 165ms/step - loss: 0.0482 - accuracy: 1.0000 - val_loss: 0.6889 - val_accuracy: 0.6250\n",
            "Epoch 6/10\n",
            "1/1 [==============================] - 0s 168ms/step - loss: 0.0302 - accuracy: 1.0000 - val_loss: 0.6902 - val_accuracy: 0.6250\n",
            "Epoch 7/10\n",
            "1/1 [==============================] - 0s 170ms/step - loss: 0.0215 - accuracy: 1.0000 - val_loss: 0.6914 - val_accuracy: 0.6250\n",
            "Epoch 8/10\n",
            "1/1 [==============================] - 0s 175ms/step - loss: 0.0445 - accuracy: 1.0000 - val_loss: 0.6930 - val_accuracy: 0.6250\n",
            "Epoch 9/10\n",
            "1/1 [==============================] - 0s 173ms/step - loss: 0.0138 - accuracy: 1.0000 - val_loss: 0.6959 - val_accuracy: 0.6250\n",
            "Epoch 10/10\n",
            "1/1 [==============================] - 0s 167ms/step - loss: 0.0302 - accuracy: 1.0000 - val_loss: 0.6981 - val_accuracy: 0.6250\n",
            "2/2 [==============================] - 0s 23ms/step - loss: 0.6981 - accuracy: 0.6250\n",
            "Epoch 1/10\n",
            "1/1 [==============================] - 20s 20s/step - loss: 0.4521 - accuracy: 0.7600 - val_loss: 0.6574 - val_accuracy: 0.6000\n",
            "Epoch 2/10\n",
            "1/1 [==============================] - 0s 187ms/step - loss: 0.3436 - accuracy: 0.8400 - val_loss: 0.6510 - val_accuracy: 0.6250\n",
            "Epoch 3/10\n",
            "1/1 [==============================] - 0s 181ms/step - loss: 0.1216 - accuracy: 1.0000 - val_loss: 0.6459 - val_accuracy: 0.6250\n",
            "Epoch 4/10\n",
            "1/1 [==============================] - 0s 178ms/step - loss: 0.0626 - accuracy: 1.0000 - val_loss: 0.6418 - val_accuracy: 0.6250\n",
            "Epoch 5/10\n",
            "1/1 [==============================] - 0s 164ms/step - loss: 0.0567 - accuracy: 1.0000 - val_loss: 0.6396 - val_accuracy: 0.6500\n",
            "Epoch 6/10\n",
            "1/1 [==============================] - 0s 168ms/step - loss: 0.0199 - accuracy: 1.0000 - val_loss: 0.6400 - val_accuracy: 0.6500\n",
            "Epoch 7/10\n",
            "1/1 [==============================] - 0s 167ms/step - loss: 0.0239 - accuracy: 1.0000 - val_loss: 0.6419 - val_accuracy: 0.6500\n",
            "Epoch 8/10\n",
            "1/1 [==============================] - 0s 163ms/step - loss: 0.0267 - accuracy: 1.0000 - val_loss: 0.6452 - val_accuracy: 0.6500\n",
            "Epoch 9/10\n",
            "1/1 [==============================] - 0s 168ms/step - loss: 0.0107 - accuracy: 1.0000 - val_loss: 0.6494 - val_accuracy: 0.6500\n",
            "Epoch 10/10\n",
            "1/1 [==============================] - 0s 170ms/step - loss: 0.0076 - accuracy: 1.0000 - val_loss: 0.6535 - val_accuracy: 0.6500\n",
            "2/2 [==============================] - 0s 20ms/step - loss: 0.6535 - accuracy: 0.6500\n",
            "Epoch 1/10\n",
            "1/1 [==============================] - 20s 20s/step - loss: 0.9853 - accuracy: 0.6800 - val_loss: 0.6922 - val_accuracy: 0.5250\n",
            "Epoch 2/10\n",
            "1/1 [==============================] - 0s 177ms/step - loss: 0.1802 - accuracy: 0.9200 - val_loss: 0.6894 - val_accuracy: 0.5750\n",
            "Epoch 3/10\n",
            "1/1 [==============================] - 0s 180ms/step - loss: 0.0920 - accuracy: 0.9600 - val_loss: 0.6882 - val_accuracy: 0.5750\n",
            "Epoch 4/10\n",
            "1/1 [==============================] - 0s 170ms/step - loss: 0.0292 - accuracy: 1.0000 - val_loss: 0.6849 - val_accuracy: 0.5750\n",
            "Epoch 5/10\n",
            "1/1 [==============================] - 0s 173ms/step - loss: 0.0220 - accuracy: 1.0000 - val_loss: 0.6824 - val_accuracy: 0.6000\n",
            "Epoch 6/10\n",
            "1/1 [==============================] - 0s 173ms/step - loss: 0.0530 - accuracy: 1.0000 - val_loss: 0.6808 - val_accuracy: 0.6000\n",
            "Epoch 7/10\n",
            "1/1 [==============================] - 0s 172ms/step - loss: 0.0386 - accuracy: 1.0000 - val_loss: 0.6815 - val_accuracy: 0.6250\n",
            "Epoch 8/10\n",
            "1/1 [==============================] - 0s 165ms/step - loss: 0.0142 - accuracy: 1.0000 - val_loss: 0.6842 - val_accuracy: 0.6250\n",
            "Epoch 9/10\n",
            "1/1 [==============================] - 0s 167ms/step - loss: 0.0101 - accuracy: 1.0000 - val_loss: 0.6873 - val_accuracy: 0.6500\n",
            "Epoch 10/10\n",
            "1/1 [==============================] - 0s 163ms/step - loss: 0.0174 - accuracy: 1.0000 - val_loss: 0.6912 - val_accuracy: 0.6500\n",
            "2/2 [==============================] - 0s 23ms/step - loss: 0.6912 - accuracy: 0.6500\n",
            "Epoch 1/10\n",
            "1/1 [==============================] - 20s 20s/step - loss: 0.8525 - accuracy: 0.6400 - val_loss: 0.6890 - val_accuracy: 0.6500\n",
            "Epoch 2/10\n",
            "1/1 [==============================] - 0s 187ms/step - loss: 0.3548 - accuracy: 0.9200 - val_loss: 0.6879 - val_accuracy: 0.6500\n",
            "Epoch 3/10\n",
            "1/1 [==============================] - 0s 184ms/step - loss: 0.1764 - accuracy: 0.9600 - val_loss: 0.6899 - val_accuracy: 0.6250\n",
            "Epoch 4/10\n",
            "1/1 [==============================] - 0s 177ms/step - loss: 0.1539 - accuracy: 0.9200 - val_loss: 0.6933 - val_accuracy: 0.6250\n",
            "Epoch 5/10\n",
            "1/1 [==============================] - 0s 176ms/step - loss: 0.0913 - accuracy: 1.0000 - val_loss: 0.6978 - val_accuracy: 0.5750\n",
            "Epoch 6/10\n",
            "1/1 [==============================] - 0s 173ms/step - loss: 0.1156 - accuracy: 0.9600 - val_loss: 0.7015 - val_accuracy: 0.5750\n",
            "Epoch 7/10\n",
            "1/1 [==============================] - 0s 168ms/step - loss: 0.0268 - accuracy: 1.0000 - val_loss: 0.7071 - val_accuracy: 0.5750\n",
            "Epoch 8/10\n",
            "1/1 [==============================] - 0s 169ms/step - loss: 0.0543 - accuracy: 1.0000 - val_loss: 0.7121 - val_accuracy: 0.5750\n",
            "Epoch 9/10\n",
            "1/1 [==============================] - 0s 171ms/step - loss: 0.0850 - accuracy: 0.9600 - val_loss: 0.7173 - val_accuracy: 0.5750\n",
            "Epoch 10/10\n",
            "1/1 [==============================] - 0s 172ms/step - loss: 0.0140 - accuracy: 1.0000 - val_loss: 0.7231 - val_accuracy: 0.5750\n",
            "2/2 [==============================] - 0s 22ms/step - loss: 0.7231 - accuracy: 0.5750\n",
            "Epoch 1/10\n",
            "1/1 [==============================] - 20s 20s/step - loss: 0.7187 - accuracy: 0.6400 - val_loss: 0.6589 - val_accuracy: 0.6500\n",
            "Epoch 2/10\n",
            "1/1 [==============================] - 0s 170ms/step - loss: 0.3442 - accuracy: 0.8400 - val_loss: 0.6469 - val_accuracy: 0.6500\n",
            "Epoch 3/10\n",
            "1/1 [==============================] - 0s 182ms/step - loss: 0.1885 - accuracy: 0.9600 - val_loss: 0.6342 - val_accuracy: 0.6500\n",
            "Epoch 4/10\n",
            "1/1 [==============================] - 0s 173ms/step - loss: 0.1652 - accuracy: 0.9600 - val_loss: 0.6229 - val_accuracy: 0.6500\n",
            "Epoch 5/10\n",
            "1/1 [==============================] - 0s 189ms/step - loss: 0.0593 - accuracy: 1.0000 - val_loss: 0.6135 - val_accuracy: 0.6500\n",
            "Epoch 6/10\n",
            "1/1 [==============================] - 0s 170ms/step - loss: 0.1001 - accuracy: 0.9600 - val_loss: 0.6074 - val_accuracy: 0.6500\n",
            "Epoch 7/10\n",
            "1/1 [==============================] - 0s 175ms/step - loss: 0.0879 - accuracy: 0.9600 - val_loss: 0.6026 - val_accuracy: 0.6500\n",
            "Epoch 8/10\n",
            "1/1 [==============================] - 0s 174ms/step - loss: 0.0220 - accuracy: 1.0000 - val_loss: 0.5994 - val_accuracy: 0.6500\n",
            "Epoch 9/10\n",
            "1/1 [==============================] - 0s 176ms/step - loss: 0.0398 - accuracy: 1.0000 - val_loss: 0.5967 - val_accuracy: 0.6500\n",
            "Epoch 10/10\n",
            "1/1 [==============================] - 0s 162ms/step - loss: 0.0231 - accuracy: 1.0000 - val_loss: 0.5948 - val_accuracy: 0.6500\n",
            "2/2 [==============================] - 0s 22ms/step - loss: 0.5948 - accuracy: 0.6500\n",
            "Epoch 1/10\n",
            "1/1 [==============================] - 19s 19s/step - loss: 0.8371 - accuracy: 0.6000 - val_loss: 0.6786 - val_accuracy: 0.6000\n",
            "Epoch 2/10\n",
            "1/1 [==============================] - 0s 183ms/step - loss: 0.3887 - accuracy: 0.7200 - val_loss: 0.6781 - val_accuracy: 0.6000\n",
            "Epoch 3/10\n",
            "1/1 [==============================] - 0s 189ms/step - loss: 0.1095 - accuracy: 1.0000 - val_loss: 0.6745 - val_accuracy: 0.6250\n",
            "Epoch 4/10\n",
            "1/1 [==============================] - 0s 215ms/step - loss: 0.1911 - accuracy: 0.9600 - val_loss: 0.6672 - val_accuracy: 0.6500\n",
            "Epoch 5/10\n",
            "1/1 [==============================] - 0s 193ms/step - loss: 0.0691 - accuracy: 1.0000 - val_loss: 0.6607 - val_accuracy: 0.6500\n",
            "Epoch 6/10\n",
            "1/1 [==============================] - 0s 182ms/step - loss: 0.0499 - accuracy: 1.0000 - val_loss: 0.6556 - val_accuracy: 0.6500\n",
            "Epoch 7/10\n",
            "1/1 [==============================] - 0s 196ms/step - loss: 0.0275 - accuracy: 1.0000 - val_loss: 0.6523 - val_accuracy: 0.6500\n",
            "Epoch 8/10\n",
            "1/1 [==============================] - 0s 197ms/step - loss: 0.0749 - accuracy: 1.0000 - val_loss: 0.6493 - val_accuracy: 0.6500\n",
            "Epoch 9/10\n",
            "1/1 [==============================] - 0s 201ms/step - loss: 0.0197 - accuracy: 1.0000 - val_loss: 0.6479 - val_accuracy: 0.6500\n",
            "Epoch 10/10\n",
            "1/1 [==============================] - 0s 182ms/step - loss: 0.0308 - accuracy: 1.0000 - val_loss: 0.6494 - val_accuracy: 0.6500\n",
            "2/2 [==============================] - 0s 25ms/step - loss: 0.6494 - accuracy: 0.6500\n",
            "mean accuracy: 0.6274999916553498\n",
            "standard deviation:0.026100753369737367\n"
          ]
        }
      ]
    },
    {
      "cell_type": "code",
      "source": [
        "#adding accuracy list to CSV files\n",
        "for dirname in os.listdir('/content/gdrive/My Drive/Binary_Imbalance_Classification_Scenarios/binary_imbalance'):\n",
        "  if dirname[-9:-4].replace('-','') == testingfile:\n",
        "    filename= dirname\n",
        "    print(filename)\n",
        "    resultsdataframe = pd.read_csv('/content/gdrive/My Drive/Binary_Imbalance_Classification_Scenarios/binary_imbalance/'+dirname)\n",
        "\n",
        "\n",
        "resultsdataframe = resultsdataframe.iloc[: , 1:]\n",
        "resultsdataframe.insert(0, 'RNNs', accuracies)\n",
        "print(resultsdataframe.head(10))\n",
        "resultsdataframe.to_csv('/content/gdrive/My Drive/Binary_Imbalance_Classification_Scenarios/binary_imbalance/'+filename)"
      ],
      "metadata": {
        "colab": {
          "base_uri": "https://localhost:8080/"
        },
        "id": "_Lm-QVRkKMqq",
        "outputId": "e9a4ebcc-e941-413c-e2aa-3925701b66c1"
      },
      "execution_count": 502,
      "outputs": [
        {
          "output_type": "stream",
          "name": "stdout",
          "text": [
            "vicon-b-imb-0-2-4.csv\n",
            "    RNNs        RF       ARF  ARF-ADWIN   ARF-COV\n",
            "0  0.625  0.825784  0.911150   0.912892  0.932056\n",
            "1  0.650  0.825784  0.912892   0.912021  0.916376\n",
            "2  0.600  0.825784  0.900697   0.923345  0.927700\n",
            "3  0.600  0.825784  0.891986   0.920732  0.911150\n",
            "4  0.625  0.825784  0.910279   0.902439  0.927700\n",
            "5  0.650  0.825784  0.909408   0.919861  0.909408\n",
            "6  0.650  0.825784  0.898955   0.916376  0.928571\n",
            "7  0.575  0.825784  0.907666   0.905052  0.929443\n",
            "8  0.650  0.825784  0.901568   0.917247  0.919861\n",
            "9  0.650  0.825784  0.917247   0.905923  0.912892\n"
          ]
        }
      ]
    }
  ],
  "metadata": {
    "colab": {
      "collapsed_sections": [],
      "machine_shape": "hm",
      "name": " RNN_binarytesting_gaussian",
      "provenance": [],
      "authorship_tag": "ABX9TyNg3Mg5DewDG0M804tP4ww9",
      "include_colab_link": true
    },
    "kernelspec": {
      "display_name": "Python 3",
      "name": "python3"
    },
    "language_info": {
      "name": "python"
    },
    "gpuClass": "standard"
  },
  "nbformat": 4,
  "nbformat_minor": 0
}